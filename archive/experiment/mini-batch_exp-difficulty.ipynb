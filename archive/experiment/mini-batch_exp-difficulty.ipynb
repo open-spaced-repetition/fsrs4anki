{
 "cells": [
  {
   "attachments": {},
   "cell_type": "markdown",
   "metadata": {},
   "source": [
    "# FSRS4Anki Optimizer mini-batch"
   ]
  },
  {
   "attachments": {},
   "cell_type": "markdown",
   "metadata": {},
   "source": [
    "[![open in colab](https://colab.research.google.com/assets/colab-badge.svg)](https://colab.research.google.com/github/open-spaced-repetition/fsrs4anki/blob/main/archive/experiment/mini-batch.ipynb)\n",
    "\n",
    "↑ Click the above button to open the optimizer on Google Colab.\n",
    "\n",
    "> If you can't see the button and are located in the Chinese Mainland, please use a proxy or VPN."
   ]
  },
  {
   "attachments": {},
   "cell_type": "markdown",
   "metadata": {},
   "source": [
    "Upload your **Anki Deck Package (.apkg)** file or **Anki Collection Package (.colpkg)** file on the `Left sidebar -> Files`, drag and drop your file in the current directory (not the `sample_data` directory). \n",
    "\n",
    "No need to include media. Need to include scheduling information. \n",
    "\n",
    "> If you use the latest version of Anki, please check the box `Support older Anki versions (slower/larger files)` when you export.\n",
    "\n",
    "You can export it via `File -> Export...` or `Ctrl + E` in the main window of Anki.\n",
    "\n",
    "Then replace the `filename` with yours in the next code cell. And set the `timezone` and `next_day_starts_at` which can be found in your preferences of Anki.\n",
    "\n",
    "After that, just run all (`Runtime -> Run all` or `Ctrl + F9`) and wait for minutes. You can see the optimal parameters in section **2.3 Result**. Copy them, replace the parameters in `fsrs4anki_scheduler.js`, and paste them into the custom scheduling of your deck options (require Anki version >= 2.1.55).\n",
    "\n",
    "**NOTE**: The default output is generated from my review logs. If you find the output is the same as mine, maybe your notebook hasn't run there.\n",
    "\n",
    "**Contribute to SRS Research**: If you want to share your data with me, please fill this form: https://forms.gle/KaojsBbhMCytaA7h8"
   ]
  },
  {
   "cell_type": "code",
   "execution_count": 1,
   "metadata": {},
   "outputs": [],
   "source": [
    "# Here are some settings that you need to replace before running this optimizer.\n",
    "\n",
    "filename = \"../collection-2022-09-18@13-21-58.colpkg\"\n",
    "# If you upload deck file, replace it with your deck filename. E.g., ALL__Learning.apkg\n",
    "# If you upload collection file, replace it with your colpgk filename. E.g., collection-2022-09-18@13-21-58.colpkg\n",
    "\n",
    "# Replace it with your timezone. I'm in China, so I use Asia/Shanghai.\n",
    "# You can find your timezone here: https://gist.github.com/heyalexej/8bf688fd67d7199be4a1682b3eec7568\n",
    "timezone = 'Asia/Shanghai'\n",
    "\n",
    "# Replace it with your Anki's setting in Preferences -> Scheduling.\n",
    "next_day_starts_at = 4\n",
    "\n",
    "# Replace it if you don't want the optimizer to use the review logs before a specific date.\n",
    "revlog_start_date = \"2006-10-05\""
   ]
  },
  {
   "attachments": {},
   "cell_type": "markdown",
   "metadata": {},
   "source": [
    "## 1 Build dataset"
   ]
  },
  {
   "attachments": {},
   "cell_type": "markdown",
   "metadata": {},
   "source": [
    "### 1.1 Extract Anki collection & deck file"
   ]
  },
  {
   "cell_type": "code",
   "execution_count": 2,
   "metadata": {},
   "outputs": [
    {
     "name": "stdout",
     "output_type": "stream",
     "text": [
      "Extract successfully!\n"
     ]
    }
   ],
   "source": [
    "import zipfile\n",
    "import sqlite3\n",
    "import time\n",
    "from tqdm import notebook\n",
    "import pandas as pd\n",
    "import numpy as np\n",
    "import os\n",
    "from datetime import timedelta, datetime\n",
    "import matplotlib.pyplot as plt\n",
    "import math\n",
    "import sys\n",
    "import torch\n",
    "from torch import nn\n",
    "from sklearn.utils import shuffle\n",
    "# Extract the collection file or deck file to get the .anki21 database.\n",
    "with zipfile.ZipFile(f'./{filename}', 'r') as zip_ref:\n",
    "    zip_ref.extractall('./')\n",
    "    print(\"Extract successfully!\")\n",
    "\n",
    "\n",
    "notebook.tqdm.pandas()"
   ]
  },
  {
   "attachments": {},
   "cell_type": "markdown",
   "metadata": {},
   "source": [
    "### 1.2 Create time-series feature & analysis\n",
    "\n",
    "The following code cell will extract the review logs from your Anki collection and preprocess them to a trainset which is saved in [./revlog_history.tsv](./revlog_history.tsv).\n",
    "\n",
    "The time-series features are important in optimizing the model's parameters. For more detail, please see my paper: https://www.maimemo.com/paper/\n",
    "\n",
    "Then it will generate a concise analysis for your review logs. \n",
    "\n",
    "- The `r_history` is the history of ratings on each review. `3,3,3,1` means that you press `Good, Good, Good, Again`. It only contains the first rating for each card on the review date, i.e., when you press `Again` in review and  `Good` in relearning steps 10min later, only `Again` will be recorded.\n",
    "- The `avg_interval` is the actual average interval after you rate your cards as the `r_history`. It could be longer than the interval given by Anki's built-in scheduler because you reviewed some overdue cards.\n",
    "- The `avg_retention` is the average retention after you press as the `r_history`. `Again` counts as failed recall, and `Hard, Good and Easy` count as successful recall. Retention is the percentage of your successful recall.\n",
    "- The `stability` is the estimated memory state variable, which is an approximate interval that leads to 90% retention.\n",
    "- The `factor` is `stability / previous stability`.\n",
    "- The `group_cnt` is the number of review logs that have the same `r_history`."
   ]
  },
  {
   "cell_type": "code",
   "execution_count": 3,
   "metadata": {},
   "outputs": [
    {
     "name": "stdout",
     "output_type": "stream",
     "text": [
      "revlog.csv saved.\n"
     ]
    },
    {
     "data": {
      "application/vnd.jupyter.widget-view+json": {
       "model_id": "fad1f9ec8aa94303a8bd648e4900c9be",
       "version_major": 2,
       "version_minor": 0
      },
      "text/plain": [
       "  0%|          | 0/30711 [00:00<?, ?it/s]"
      ]
     },
     "metadata": {},
     "output_type": "display_data"
    },
    {
     "name": "stdout",
     "output_type": "stream",
     "text": [
      "Trainset saved.\n"
     ]
    },
    {
     "data": {
      "application/vnd.jupyter.widget-view+json": {
       "model_id": "06c20f95d86e414ab884963f620e6e67",
       "version_major": 2,
       "version_minor": 0
      },
      "text/plain": [
       "  0%|          | 0/95123 [00:00<?, ?it/s]"
      ]
     },
     "metadata": {},
     "output_type": "display_data"
    },
    {
     "name": "stdout",
     "output_type": "stream",
     "text": [
      "Retention calculated.\n"
     ]
    },
    {
     "data": {
      "application/vnd.jupyter.widget-view+json": {
       "model_id": "58150efc6c2a478a9404bf69f98706e0",
       "version_major": 2,
       "version_minor": 0
      },
      "text/plain": [
       "  0%|          | 0/63978 [00:00<?, ?it/s]"
      ]
     },
     "metadata": {},
     "output_type": "display_data"
    },
    {
     "name": "stdout",
     "output_type": "stream",
     "text": [
      "Stability calculated.\n"
     ]
    },
    {
     "data": {
      "application/vnd.jupyter.widget-view+json": {
       "model_id": "4e40efec93d140ffaa50a883e14dd655",
       "version_major": 2,
       "version_minor": 0
      },
      "text/plain": [
       "  0%|          | 0/1190 [00:00<?, ?it/s]"
      ]
     },
     "metadata": {},
     "output_type": "display_data"
    },
    {
     "name": "stdout",
     "output_type": "stream",
     "text": [
      "1:again, 2:hard, 3:good, 4:easy\n",
      "\n",
      "      r_history  avg_interval  avg_retention  stability  factor  group_cnt\n",
      "              1           1.7          0.765        1.0     inf       7997\n",
      "            1,3           3.9          0.876        4.2    4.20       4176\n",
      "          1,3,3           8.6          0.883        9.2    2.19       2711\n",
      "        1,3,3,3          18.2          0.858       14.0    1.52       1616\n",
      "      1,3,3,3,3          37.5          0.835       23.2    1.66        822\n",
      "    1,3,3,3,3,3          78.8          0.850       35.6    1.53        384\n",
      "  1,3,3,3,3,3,3         122.3          0.903       39.3    1.10        171\n",
      "              2           1.0          0.901        1.1     inf        240\n",
      "            2,3           3.5          0.946        8.3    7.55        201\n",
      "          2,3,3          11.1          0.890        7.1    0.86        160\n",
      "              3           1.5          0.962        5.4     inf       9134\n",
      "            3,3           3.9          0.966       15.2    2.81       6589\n",
      "          3,3,3           9.0          0.960       23.7    1.56       5162\n",
      "        3,3,3,3          19.4          0.942       44.2    1.86       3519\n",
      "      3,3,3,3,3          39.1          0.926       54.5    1.23       1922\n",
      "    3,3,3,3,3,3          76.6          0.930      106.8    1.96       1074\n",
      "  3,3,3,3,3,3,3         118.7          0.949      155.3    1.45        480\n",
      "3,3,3,3,3,3,3,3         131.1          0.970      617.2    3.97        100\n",
      "              4           3.8          0.966       12.1     inf      11599\n",
      "            4,3           8.1          0.975       38.9    3.21       7517\n",
      "          4,3,3          18.0          0.963       56.8    1.46       5303\n",
      "        4,3,3,3          33.3          0.952       84.3    1.48       3012\n",
      "      4,3,3,3,3          48.3          0.953      128.3    1.52       1353\n",
      "    4,3,3,3,3,3          67.3          0.958      112.9    0.88        496\n",
      "  4,3,3,3,3,3,3          77.6          0.978      113.2    1.00        244\n",
      "4,3,3,3,3,3,3,3         112.9          0.984      177.8    1.57        168\n",
      "Analysis saved!\n"
     ]
    }
   ],
   "source": [
    "if os.path.isfile(\"collection.anki21b\"):\n",
    "    os.remove(\"collection.anki21b\")\n",
    "    raise Exception(\n",
    "        \"Please export the file with `support older Anki versions` if you use the latest version of Anki.\")\n",
    "elif os.path.isfile(\"collection.anki21\"):\n",
    "    con = sqlite3.connect(\"collection.anki21\")\n",
    "elif os.path.isfile(\"collection.anki2\"):\n",
    "    con = sqlite3.connect(\"collection.anki2\")\n",
    "else:\n",
    "    raise Exception(\"Collection not exist!\")\n",
    "cur = con.cursor()\n",
    "res = cur.execute(\"SELECT * FROM revlog\")\n",
    "revlog = res.fetchall()\n",
    "\n",
    "df = pd.DataFrame(revlog)\n",
    "df.columns = ['id', 'cid', 'usn', 'r', 'ivl',\n",
    "              'last_lvl', 'factor', 'time', 'type']\n",
    "df = df[(df['cid'] <= time.time() * 1000) &\n",
    "        (df['id'] <= time.time() * 1000) &\n",
    "        (df['r'] > 0)].copy()\n",
    "df['create_date'] = pd.to_datetime(df['cid'] // 1000, unit='s')\n",
    "df['create_date'] = df['create_date'].dt.tz_localize(\n",
    "    'UTC').dt.tz_convert(timezone)\n",
    "df['review_date'] = pd.to_datetime(df['id'] // 1000, unit='s')\n",
    "df['review_date'] = df['review_date'].dt.tz_localize(\n",
    "    'UTC').dt.tz_convert(timezone)\n",
    "df.drop(df[df['review_date'].dt.year < 2006].index, inplace=True)\n",
    "df.sort_values(by=['cid', 'id'], inplace=True, ignore_index=True)\n",
    "type_sequence = np.array(df['type'])\n",
    "time_sequence = np.array(df['time'])\n",
    "df.to_csv(\"revlog.csv\", index=False)\n",
    "print(\"revlog.csv saved.\")\n",
    "df = df[df['type'] != 3].copy()\n",
    "df['real_days'] = df['review_date'] - timedelta(hours=next_day_starts_at)\n",
    "df['real_days'] = pd.DatetimeIndex(df['real_days'].dt.floor('D', ambiguous='infer', nonexistent='shift_forward')).to_julian_date()\n",
    "df.drop_duplicates(['cid', 'real_days'], keep='first', inplace=True)\n",
    "df['delta_t'] = df.real_days.diff()\n",
    "df.dropna(inplace=True)\n",
    "df['delta_t'] = df['delta_t'].astype(dtype=int)\n",
    "df['i'] = 1\n",
    "df['r_history'] = \"\"\n",
    "df['t_history'] = \"\"\n",
    "col_idx = {key: i for i, key in enumerate(df.columns)}\n",
    "\n",
    "\n",
    "# code from https://github.com/L-M-Sherlock/anki_revlog_analysis/blob/main/revlog_analysis.py\n",
    "def get_feature(x):\n",
    "    last_kind = None\n",
    "    for idx, log in enumerate(x.itertuples()):\n",
    "        if last_kind is not None and last_kind in (1, 2) and log.type == 0:\n",
    "            return x.iloc[:idx]\n",
    "        last_kind = log.type\n",
    "        if idx == 0:\n",
    "            if log.type != 0:\n",
    "                return x.iloc[:idx]\n",
    "            x.iloc[idx, col_idx['delta_t']] = 0\n",
    "        if idx == x.shape[0] - 1:\n",
    "            break\n",
    "        x.iloc[idx + 1, col_idx['i']] = x.iloc[idx, col_idx['i']] + 1\n",
    "        x.iloc[idx + 1, col_idx['t_history']] = f\"{x.iloc[idx, col_idx['t_history']]},{x.iloc[idx, col_idx['delta_t']]}\"\n",
    "        x.iloc[idx + 1, col_idx['r_history']] = f\"{x.iloc[idx, col_idx['r_history']]},{x.iloc[idx, col_idx['r']]}\"\n",
    "    return x\n",
    "\n",
    "df = df.groupby('cid', as_index=False, group_keys=False).progress_apply(get_feature)\n",
    "df = df[df['id'] >= time.mktime(datetime.strptime(revlog_start_date, \"%Y-%m-%d\").timetuple()) * 1000]\n",
    "df[\"t_history\"] = df[\"t_history\"].map(lambda x: x[1:] if len(x) > 1 else x)\n",
    "df[\"r_history\"] = df[\"r_history\"].map(lambda x: x[1:] if len(x) > 1 else x)\n",
    "df.to_csv('revlog_history.tsv', sep=\"\\t\", index=False)\n",
    "print(\"Trainset saved.\")\n",
    "\n",
    "def cal_retention(group: pd.DataFrame) -> pd.DataFrame:\n",
    "    group['retention'] = round(group['r'].map(lambda x: {1: 0, 2: 1, 3: 1, 4: 1}[x]).mean(), 4)\n",
    "    group['total_cnt'] = group.shape[0]\n",
    "    return group\n",
    "\n",
    "df = df.groupby(by=['r_history', 'delta_t'], group_keys=False).progress_apply(cal_retention)\n",
    "print(\"Retention calculated.\")\n",
    "df = df.drop(columns=['id', 'cid', 'usn', 'ivl', 'last_lvl', 'factor', 'time', 'type', 'create_date', 'review_date', 'real_days', 'r', 't_history'])\n",
    "df.drop_duplicates(inplace=True)\n",
    "df['retention'] = df['retention'].map(lambda x: max(min(0.99, x), 0.01))\n",
    "\n",
    "def cal_stability(group: pd.DataFrame) -> pd.DataFrame:\n",
    "    group_cnt = sum(group['total_cnt'])\n",
    "    if group_cnt < 10:\n",
    "        return pd.DataFrame()\n",
    "    group['group_cnt'] = group_cnt\n",
    "    if group['i'].values[0] > 1:\n",
    "        r_ivl_cnt = sum(group['delta_t'] * group['retention'].map(np.log) * pow(group['total_cnt'], 2))\n",
    "        ivl_ivl_cnt = sum(group['delta_t'].map(lambda x: x ** 2) * pow(group['total_cnt'], 2))\n",
    "        group['stability'] = round(np.log(0.9) / (r_ivl_cnt / ivl_ivl_cnt), 1)\n",
    "    else:\n",
    "        group['stability'] = 0.0\n",
    "    group['avg_retention'] = round(sum(group['retention'] * pow(group['total_cnt'], 2)) / sum(pow(group['total_cnt'], 2)), 3)\n",
    "    group['avg_interval'] = round(sum(group['delta_t'] * pow(group['total_cnt'], 2)) / sum(pow(group['total_cnt'], 2)), 1)\n",
    "    del group['total_cnt']\n",
    "    del group['retention']\n",
    "    del group['delta_t']\n",
    "    return group\n",
    "\n",
    "df = df.groupby(by=['r_history'], group_keys=False).progress_apply(cal_stability)\n",
    "print(\"Stability calculated.\")\n",
    "df.reset_index(drop = True, inplace = True)\n",
    "df.drop_duplicates(inplace=True)\n",
    "df.sort_values(by=['r_history'], inplace=True, ignore_index=True)\n",
    "\n",
    "if df.shape[0] > 0:\n",
    "    for idx in notebook.tqdm(df.index):\n",
    "        item = df.loc[idx]\n",
    "        index = df[(df['i'] == item['i'] + 1) & (df['r_history'].str.startswith(item['r_history']))].index\n",
    "        df.loc[index, 'last_stability'] = item['stability']\n",
    "    df['factor'] = round(df['stability'] / df['last_stability'], 2)\n",
    "    df = df[(df['i'] >= 2) & (df['group_cnt'] >= 100)]\n",
    "    df['last_recall'] = df['r_history'].map(lambda x: x[-1])\n",
    "    df = df[df.groupby(['i', 'r_history'], group_keys=False)['group_cnt'].transform(max) == df['group_cnt']]\n",
    "    df.to_csv('./stability_for_analysis.tsv', sep='\\t', index=None)\n",
    "    print(\"1:again, 2:hard, 3:good, 4:easy\\n\")\n",
    "    print(df[df['r_history'].str.contains(r'^[1-4][^124]*$', regex=True)][['r_history', 'avg_interval', 'avg_retention', 'stability', 'factor', 'group_cnt']].to_string(index=False))\n",
    "    print(\"Analysis saved!\")"
   ]
  },
  {
   "attachments": {},
   "cell_type": "markdown",
   "metadata": {},
   "source": [
    "## 2 Optimize parameter"
   ]
  },
  {
   "attachments": {},
   "cell_type": "markdown",
   "metadata": {},
   "source": [
    "### 2.1 Define the model\n",
    "\n",
    "FSRS is a time-series model for predicting memory states."
   ]
  },
  {
   "cell_type": "code",
   "execution_count": 4,
   "metadata": {},
   "outputs": [],
   "source": [
    "init_w = [1, 1, 0, 0.5, 0.5, 0.2, 2, 0.12, 0.8, 2, 0.2, 0.2, 1, 0.5]\n",
    "'''\n",
    "w[0]: initial_stability_for_again_answer\n",
    "w[1]: initial_stability_step_per_rating\n",
    "w[2]: initial_difficulty_for_good_answer\n",
    "w[3]: initial_difficulty_step_per_rating\n",
    "w[4]: next_difficulty_step_per_rating\n",
    "w[5]: next_difficulty_reversion_to_mean_speed (used to avoid ease hell)\n",
    "w[6]: next_stability_factor_after_success\n",
    "w[7]: next_stability_stabilization_decay_after_success\n",
    "w[8]: next_stability_retrievability_gain_after_success\n",
    "w[9]: next_stability_factor_after_failure\n",
    "w[10]: next_stability_difficulty_decay_after_success\n",
    "w[11]: next_stability_stability_gain_after_failure\n",
    "w[12]: next_stability_retrievability_gain_after_failure\n",
    "For more details about the parameters, please see: \n",
    "https://github.com/open-spaced-repetition/fsrs4anki/wiki/Free-Spaced-Repetition-Scheduler\n",
    "'''\n",
    "\n",
    "\n",
    "class FSRS(nn.Module):\n",
    "    def __init__(self, w):\n",
    "        super(FSRS, self).__init__()\n",
    "        self.w = nn.Parameter(torch.tensor(w))\n",
    "\n",
    "    def stability_after_success(self, state, new_d, r):\n",
    "        new_s = state[:,0] * (1 + torch.exp(self.w[6]) *\n",
    "                        (torch.exp(-self.w[13] * new_d) + self.w[2]) *\n",
    "                        torch.pow(state[:,0], -self.w[7]) *\n",
    "                        (torch.exp((1 - r) * self.w[8]) - 1))\n",
    "        return new_s\n",
    "    \n",
    "    def stability_after_failure(self, state, new_d, r):\n",
    "        new_s = self.w[9] * torch.exp(-self.w[10] * new_d) * torch.pow(\n",
    "            state[:,0], self.w[11]) * torch.exp((1 - r) * self.w[12])\n",
    "        return new_s\n",
    "\n",
    "    def step(self, X, state):\n",
    "        '''\n",
    "        :param X: shape[batch_size, 2], X[:,0] is elapsed time, X[:,1] is rating\n",
    "        :param state: shape[batch_size, 2], state[:,0] is stability, state[:,1] is difficulty\n",
    "        :return state:\n",
    "        '''\n",
    "        if torch.equal(state, torch.zeros_like(state)):\n",
    "            # first learn, init memory states\n",
    "            new_s = self.w[0] + self.w[1] * (X[:,1] - 1)\n",
    "            new_d = 0 - self.w[3] * (X[:,1] - 3)\n",
    "        else:\n",
    "            r = torch.exp(np.log(0.9) * X[:,0] / state[:,0])\n",
    "            new_d = state[:,1] - self.w[4] * (X[:,1] - 3)\n",
    "            new_d = self.mean_reversion(0, new_d)\n",
    "            condition = X[:,1] > 1\n",
    "            new_s = torch.where(condition, self.stability_after_success(state, new_d, r), self.stability_after_failure(state, new_d, r))\n",
    "        return torch.stack([new_s, new_d], dim=1)\n",
    "\n",
    "    def forward(self, inputs, state=None):\n",
    "        '''\n",
    "        :param inputs: shape[seq_len, batch_size, 2]\n",
    "        '''\n",
    "        if state is None:\n",
    "            state = torch.zeros((inputs.shape[1], 2))\n",
    "        else:\n",
    "            state, = state\n",
    "        outputs = []\n",
    "        for X in inputs:\n",
    "            state = self.step(X, state)\n",
    "            outputs.append(state)\n",
    "        return torch.stack(outputs), state\n",
    "\n",
    "    def mean_reversion(self, init, current):\n",
    "        return self.w[5] * init + (1-self.w[5]) * current\n",
    "\n",
    "\n",
    "class WeightClipper(object):\n",
    "    def __init__(self, frequency=1):\n",
    "        self.frequency = frequency\n",
    "\n",
    "    def __call__(self, module):\n",
    "        if hasattr(module, 'w'):\n",
    "            w = module.w.data\n",
    "            w[0] = w[0].clamp(0.1, 10)\n",
    "            w[1] = w[1].clamp(0.1, 5)\n",
    "            w[2] = w[2].clamp(0, 1)\n",
    "            w[3] = w[3].clamp(0.1, 5)\n",
    "            w[4] = w[4].clamp(0.1, 5)\n",
    "            w[5] = w[5].clamp(0, 0.5)\n",
    "            w[6] = w[6].clamp(0, 3)\n",
    "            w[7] = w[7].clamp(0.01, 0.5)\n",
    "            w[8] = w[8].clamp(0.01, 3)\n",
    "            w[9] = w[9].clamp(0.5, 5)\n",
    "            w[10] = w[10].clamp(0.01, 2)\n",
    "            w[11] = w[11].clamp(0.01, 0.9)\n",
    "            w[12] = w[12].clamp(0.01, 2)\n",
    "            module.w.data = w\n",
    "\n",
    "def lineToTensor(line):\n",
    "    ivl = line[0].split(',')\n",
    "    response = line[1].split(',')\n",
    "    tensor = torch.zeros(len(response), 2)\n",
    "    for li, response in enumerate(response):\n",
    "        tensor[li][0] = int(ivl[li])\n",
    "        tensor[li][1] = int(response)\n",
    "    return tensor\n",
    "\n",
    "from torch.utils.data import Dataset, DataLoader, Sampler\n",
    "from torch.nn.utils.rnn import pad_sequence, pack_padded_sequence, pad_packed_sequence\n",
    "from typing import List\n",
    "\n",
    "class RevlogDataset(Dataset):\n",
    "    def __init__(self, dataframe):\n",
    "        padded = pad_sequence(dataframe['tensor'].to_list(), batch_first=True, padding_value=0)\n",
    "        self.x_train = padded.int()\n",
    "        self.t_train = torch.tensor(dataframe['delta_t'].values, dtype=torch.int)\n",
    "        self.y_train = torch.tensor(dataframe['y'].values, dtype=torch.float)\n",
    "        self.seq_len = torch.tensor(dataframe['tensor'].map(len).values, dtype=torch.long)\n",
    "\n",
    "    def __getitem__(self, idx):\n",
    "        return self.x_train[idx], self.t_train[idx], self.y_train[idx], self.seq_len[idx]\n",
    "\n",
    "    def __len__(self):\n",
    "        return len(self.y_train)\n",
    "    \n",
    "class RevlogSampler(Sampler[List[int]]):\n",
    "    def __init__(self, data_source, batch_size):\n",
    "        self.data_source = data_source\n",
    "        self.batch_size = batch_size\n",
    "        lengths = np.array(data_source.seq_len)\n",
    "        indices = np.argsort(lengths)\n",
    "        full_batches, remainder = divmod(indices.size, self.batch_size)\n",
    "        if full_batches > 0:\n",
    "            self.batch_indices = np.split(indices[:-remainder], full_batches)\n",
    "        else:\n",
    "            self.batch_indices = []\n",
    "        if remainder:\n",
    "            self.batch_indices.append(indices[-remainder:])\n",
    "        self.batch_nums = len(self.batch_indices)\n",
    "        # seed = int(torch.empty((), dtype=torch.int64).random_().item())\n",
    "        seed = 2023\n",
    "        self.generator = torch.Generator()\n",
    "        self.generator.manual_seed(seed)\n",
    "\n",
    "    def __iter__(self):\n",
    "        yield from [self.batch_indices[idx] for idx in torch.randperm(self.batch_nums, generator=self.generator).tolist()]\n",
    "\n",
    "    def __len__(self):\n",
    "        return len(self.data_source)\n",
    "\n",
    "\n",
    "def collate_fn(batch):\n",
    "    sequences, delta_ts, labels, seq_lens = zip(*batch)\n",
    "    sequences_packed = pack_padded_sequence(torch.stack(sequences, dim=1), lengths=torch.stack(seq_lens), batch_first=False, enforce_sorted=False)\n",
    "    sequences_padded, length = pad_packed_sequence(sequences_packed, batch_first=False)\n",
    "    sequences_padded = torch.as_tensor(sequences_padded)\n",
    "    seq_lens = torch.as_tensor(length)\n",
    "    delta_ts = torch.as_tensor(delta_ts)\n",
    "    labels = torch.as_tensor(labels)\n",
    "    return sequences_padded, delta_ts, labels, seq_lens\n",
    "\n",
    "class Optimizer(object):\n",
    "    def __init__(self, train_set, test_set, n_epoch=1, lr=1e-2, batch_size=256) -> None:\n",
    "        self.model = FSRS(init_w)\n",
    "        self.optimizer = torch.optim.Adam(self.model.parameters(), lr=lr)\n",
    "        self.clipper = WeightClipper()\n",
    "        self.batch_size = batch_size\n",
    "        self.build_dataset(train_set, test_set)\n",
    "        self.n_epoch = n_epoch\n",
    "        self.batch_nums = self.next_train_data_loader.batch_sampler.batch_nums\n",
    "        self.scheduler = torch.optim.lr_scheduler.CosineAnnealingLR(self.optimizer, T_max=self.batch_nums * n_epoch)\n",
    "        self.avg_train_losses = []\n",
    "        self.avg_eval_losses = []\n",
    "        self.loss_fn = nn.BCELoss(reduction='sum')\n",
    "\n",
    "    def build_dataset(self, train_set, test_set):\n",
    "        pre_train_set = train_set[train_set['i'] == 2]\n",
    "        self.pre_train_set = RevlogDataset(pre_train_set)\n",
    "        sampler = RevlogSampler(self.pre_train_set, batch_size=self.batch_size)\n",
    "        self.pre_train_data_loader = DataLoader(self.pre_train_set, batch_sampler=sampler, collate_fn=collate_fn)\n",
    "\n",
    "        next_train_set = train_set[train_set['i'] > 2]\n",
    "        self.next_train_set = RevlogDataset(next_train_set)\n",
    "        sampler = RevlogSampler(self.next_train_set, batch_size=self.batch_size)\n",
    "        self.next_train_data_loader = DataLoader(self.next_train_set, batch_sampler=sampler, collate_fn=collate_fn)\n",
    "\n",
    "        self.train_set = RevlogDataset(train_set)\n",
    "        sampler = RevlogSampler(self.train_set, batch_size=self.batch_size)\n",
    "        self.train_data_loader = DataLoader(self.train_set, batch_sampler=sampler, collate_fn=collate_fn)\n",
    "\n",
    "        self.test_set = RevlogDataset(test_set)\n",
    "        sampler = RevlogSampler(self.test_set, batch_size=self.batch_size)\n",
    "        self.test_data_loader = DataLoader(self.test_set, batch_sampler=sampler, collate_fn=collate_fn)\n",
    "        print(\"dataset built\")\n",
    "\n",
    "    def train(self):\n",
    "        # pretrain\n",
    "        self.eval()\n",
    "        pbar = notebook.tqdm(desc=\"pre-train\", colour=\"red\", total=len(self.pre_train_data_loader))\n",
    "\n",
    "        for i, batch in enumerate(self.pre_train_data_loader):\n",
    "            self.model.train()\n",
    "            self.optimizer.zero_grad()\n",
    "            sequences, delta_ts, labels, seq_lens = batch\n",
    "            real_batch_size = seq_lens.shape[0]\n",
    "            outputs, _ = self.model(sequences)\n",
    "            stabilities = outputs[seq_lens-1, torch.arange(real_batch_size), 0]\n",
    "            retentions = torch.exp(np.log(0.9) * delta_ts / stabilities)\n",
    "            loss = self.loss_fn(retentions, labels)\n",
    "            loss.backward()\n",
    "            self.optimizer.step()\n",
    "            self.model.apply(self.clipper)\n",
    "            pbar.update(n=real_batch_size)\n",
    "\n",
    "        pbar.close()\n",
    "        for name, param in self.model.named_parameters():\n",
    "            print(f\"{name}: {list(map(lambda x: round(float(x), 4),param))}\")\n",
    "\n",
    "        epoch_len = len(self.next_train_data_loader)\n",
    "        pbar = notebook.tqdm(desc=\"train\", colour=\"red\", total=epoch_len*self.n_epoch)\n",
    "        print_len = max(self.batch_nums*self.n_epoch // 10, 1)\n",
    "\n",
    "\n",
    "        for k in range(self.n_epoch):\n",
    "            self.eval()\n",
    "            for i, batch in enumerate(self.next_train_data_loader):\n",
    "                self.model.train()\n",
    "                self.optimizer.zero_grad()\n",
    "                sequences, delta_ts, labels, seq_lens = batch\n",
    "                real_batch_size = seq_lens.shape[0]\n",
    "                outputs, _ = self.model(sequences)\n",
    "                stabilities = outputs[seq_lens-1, torch.arange(real_batch_size), 0]\n",
    "                retentions = torch.exp(np.log(0.9) * delta_ts / stabilities)\n",
    "                loss = self.loss_fn(retentions, labels)\n",
    "                loss.backward()\n",
    "                for param in self.model.parameters():\n",
    "                    param.grad[:2] = torch.zeros(2)\n",
    "                self.optimizer.step()\n",
    "                self.scheduler.step()\n",
    "                self.model.apply(self.clipper)\n",
    "                pbar.update(real_batch_size)\n",
    "\n",
    "                if (k * self.batch_nums + i + 1) % print_len == 0:\n",
    "                    print(f\"iteration: {k * epoch_len + (i + 1) * self.batch_size}\")\n",
    "                    for name, param in self.model.named_parameters():\n",
    "                        print(f\"{name}: {list(map(lambda x: round(float(x), 4),param))}\")\n",
    "        pbar.close()\n",
    "                \n",
    "        self.eval()\n",
    "\n",
    "        w = list(map(lambda x: round(float(x), 4), dict(self.model.named_parameters())['w'].data))\n",
    "        return w\n",
    "\n",
    "    def eval(self):\n",
    "        self.model.eval()\n",
    "        with torch.no_grad():\n",
    "            sampler = RevlogSampler(self.train_set, batch_size=4096)\n",
    "            train_data_loader = DataLoader(self.train_set, batch_sampler=sampler, collate_fn=collate_fn)\n",
    "            loss = 0\n",
    "            for batch in train_data_loader:\n",
    "                sequences, delta_ts, labels, seq_lens = batch\n",
    "                real_batch_size = seq_lens.shape[0]\n",
    "                outputs, _ = self.model(sequences)\n",
    "                stabilities = outputs[seq_lens-1, torch.arange(real_batch_size), 0]\n",
    "                retentions = torch.exp(np.log(0.9) * delta_ts / stabilities)\n",
    "                loss += self.loss_fn(retentions, labels)\n",
    "            self.avg_train_losses.append(loss/len(train_data_loader))\n",
    "            print(f\"Loss in trainset: {self.avg_train_losses[-1]:.4f}\")\n",
    "\n",
    "            sampler = RevlogSampler(self.test_set, batch_size=4096)\n",
    "            test_data_loader = DataLoader(self.test_set, batch_sampler=sampler, collate_fn=collate_fn)\n",
    "            loss = 0\n",
    "            for batch in test_data_loader:\n",
    "                sequences, delta_ts, labels, seq_lens = batch\n",
    "                real_batch_size = seq_lens.shape[0]\n",
    "                outputs, _ = self.model(sequences)\n",
    "                stabilities = outputs[seq_lens-1, torch.arange(real_batch_size), 0]\n",
    "                retentions = torch.exp(np.log(0.9) * delta_ts / stabilities)\n",
    "                loss += self.loss_fn(retentions, labels)\n",
    "            self.avg_eval_losses.append(loss/len(test_data_loader))\n",
    "            print(f\"Loss in testset: {self.avg_eval_losses[-1]:.4f}\")\n",
    "\n",
    "    def plot(self):\n",
    "        plt.plot(self.avg_train_losses, label='train')\n",
    "        plt.plot(self.avg_eval_losses, label='test')\n",
    "        plt.xlabel('epoch')\n",
    "        plt.ylabel('loss')\n",
    "        plt.legend()\n",
    "        plt.show()"
   ]
  },
  {
   "attachments": {},
   "cell_type": "markdown",
   "metadata": {},
   "source": [
    "### 2.2 Train the model\n",
    "\n",
    "The [./revlog_history.tsv](./revlog_history.tsv) generated before will be used for training the FSRS model."
   ]
  },
  {
   "cell_type": "code",
   "execution_count": 5,
   "metadata": {},
   "outputs": [
    {
     "data": {
      "application/vnd.jupyter.widget-view+json": {
       "model_id": "bda7534acadb45c988624c4509f3b854",
       "version_major": 2,
       "version_minor": 0
      },
      "text/plain": [
       "  0%|          | 0/223795 [00:00<?, ?it/s]"
      ]
     },
     "metadata": {},
     "output_type": "display_data"
    },
    {
     "name": "stdout",
     "output_type": "stream",
     "text": [
      "Tensorized!\n"
     ]
    },
    {
     "name": "stderr",
     "output_type": "stream",
     "text": [
      "/opt/homebrew/Caskroom/miniforge/base/envs/fsrs4anki/lib/python3.8/site-packages/sklearn/model_selection/_split.py:885: UserWarning: The least populated class in y has only 1 members, which is less than n_splits=3.\n",
      "  warnings.warn(\n"
     ]
    },
    {
     "name": "stdout",
     "output_type": "stream",
     "text": [
      "TRAIN: 147736 TEST: 76059\n",
      "dataset built\n",
      "Loss in trainset: 0.3578\n",
      "Loss in testset: 0.3241\n"
     ]
    },
    {
     "data": {
      "application/vnd.jupyter.widget-view+json": {
       "model_id": "a88b5f60b0724beb819277840f13ec3c",
       "version_major": 2,
       "version_minor": 0
      },
      "text/plain": [
       "pre-train:   0%|          | 0/17371 [00:00<?, ?it/s]"
      ]
     },
     "metadata": {},
     "output_type": "display_data"
    },
    {
     "name": "stdout",
     "output_type": "stream",
     "text": [
      "w: [0.9695, 1.95, 0.0, 0.5, 0.5, 0.2, 2.0, 0.12, 0.8, 2.0, 0.2, 0.2, 1.0, 0.5]\n"
     ]
    },
    {
     "data": {
      "application/vnd.jupyter.widget-view+json": {
       "model_id": "fd2319ad936a419d86cee4672cde280a",
       "version_major": 2,
       "version_minor": 0
      },
      "text/plain": [
       "train:   0%|          | 0/391095 [00:00<?, ?it/s]"
      ]
     },
     "metadata": {},
     "output_type": "display_data"
    },
    {
     "name": "stdout",
     "output_type": "stream",
     "text": [
      "Loss in trainset: 0.3513\n",
      "Loss in testset: 0.3139\n",
      "iteration: 39168\n",
      "w: [1.0457, 1.9732, 0.327, 0.6821, 0.733, 0.1289, 2.5362, 0.3353, 1.4506, 1.341, 0.1924, 0.28, 1.2267, 1.271]\n",
      "iteration: 78336\n",
      "w: [1.0457, 1.9732, 0.1831, 0.6005, 0.6632, 0.1384, 2.6247, 0.2501, 1.5326, 1.1286, 0.0927, 0.4506, 1.3101, 1.3418]\n",
      "iteration: 117504\n",
      "w: [1.0457, 1.9732, 0.1361, 0.6231, 0.5827, 0.0878, 2.7444, 0.2602, 1.6314, 1.0228, 0.1674, 0.4984, 1.3421, 1.188]\n",
      "Loss in trainset: 0.3283\n",
      "Loss in testset: 0.2907\n",
      "iteration: 156477\n",
      "w: [1.0457, 1.9732, 0.183, 0.6775, 0.5776, 0.0426, 2.7151, 0.338, 1.624, 0.9211, 0.0957, 0.4679, 1.1802, 1.267]\n",
      "iteration: 195645\n",
      "w: [1.0457, 1.9732, 0.1126, 0.6604, 0.6574, 0.0672, 2.7267, 0.2183, 1.6372, 0.7833, 0.1333, 0.558, 1.1989, 1.4117]\n",
      "iteration: 234813\n",
      "w: [1.0457, 1.9732, 0.0831, 0.5674, 0.5629, 0.0666, 2.7419, 0.257, 1.6382, 0.7575, 0.09, 0.5229, 1.2286, 1.3016]\n",
      "Loss in trainset: 0.3275\n",
      "Loss in testset: 0.2896\n",
      "iteration: 273786\n",
      "w: [1.0457, 1.9732, 0.101, 0.5608, 0.4721, 0.0946, 2.7626, 0.2332, 1.6452, 0.7326, 0.0857, 0.6055, 1.1662, 1.2171]\n",
      "iteration: 312954\n",
      "w: [1.0457, 1.9732, 0.0811, 0.5096, 0.5179, 0.0879, 2.7861, 0.2135, 1.6612, 0.6926, 0.0895, 0.5468, 1.1298, 1.226]\n",
      "iteration: 352122\n",
      "w: [1.0457, 1.9732, 0.0776, 0.5487, 0.499, 0.0962, 2.7801, 0.2248, 1.6508, 0.706, 0.0668, 0.5882, 1.1349, 1.2341]\n",
      "iteration: 391290\n",
      "w: [1.0457, 1.9732, 0.0719, 0.5502, 0.5053, 0.0886, 2.7789, 0.2293, 1.6492, 0.7117, 0.0598, 0.5886, 1.138, 1.2416]\n",
      "Loss in trainset: 0.3272\n",
      "Loss in testset: 0.2893\n"
     ]
    },
    {
     "data": {
      "image/png": "[encoded data removed]",
      "text/plain": [
       "<Figure size 640x480 with 1 Axes>"
      ]
     },
     "metadata": {},
     "output_type": "display_data"
    },
    {
     "name": "stdout",
     "output_type": "stream",
     "text": [
      "TRAIN: 149817 TEST: 73978\n",
      "dataset built\n",
      "Loss in trainset: 0.3490\n",
      "Loss in testset: 0.3409\n"
     ]
    },
    {
     "data": {
      "application/vnd.jupyter.widget-view+json": {
       "model_id": "dad72808c20d43f0a47149f6465564f5",
       "version_major": 2,
       "version_minor": 0
      },
      "text/plain": [
       "pre-train:   0%|          | 0/19836 [00:00<?, ?it/s]"
      ]
     },
     "metadata": {},
     "output_type": "display_data"
    },
    {
     "name": "stdout",
     "output_type": "stream",
     "text": [
      "w: [0.9229, 2.584, 0.0, 0.5, 0.5, 0.2, 2.0, 0.12, 0.8, 2.0, 0.2, 0.2, 1.0, 0.5]\n"
     ]
    },
    {
     "data": {
      "application/vnd.jupyter.widget-view+json": {
       "model_id": "4d28cb9cef4842a693cfebedf1a88709",
       "version_major": 2,
       "version_minor": 0
      },
      "text/plain": [
       "train:   0%|          | 0/389943 [00:00<?, ?it/s]"
      ]
     },
     "metadata": {},
     "output_type": "display_data"
    },
    {
     "name": "stdout",
     "output_type": "stream",
     "text": [
      "Loss in trainset: 0.3379\n",
      "Loss in testset: 0.3319\n",
      "iteration: 38912\n",
      "w: [0.7807, 2.6095, 0.2438, 0.5025, 0.802, 0.1107, 2.5985, 0.1941, 1.5183, 1.545, 0.2384, 0.3094, 0.9919, 1.2384]\n",
      "iteration: 77824\n",
      "w: [0.7807, 2.6095, 0.5275, 1.6072, 0.7971, 0.2035, 2.3645, 0.2657, 1.417, 1.2377, 0.1826, 0.3802, 1.2738, 1.9858]\n",
      "iteration: 116736\n",
      "w: [0.7807, 2.6095, 0.3988, 0.5785, 0.7549, 0.1226, 2.2447, 0.2206, 1.3714, 1.2982, 0.2053, 0.4272, 1.2473, 1.5724]\n",
      "Loss in trainset: 0.3187\n",
      "Loss in testset: 0.3122\n",
      "iteration: 155581\n",
      "w: [0.7807, 2.6095, 0.1882, 0.3721, 0.5538, 0.095, 2.3458, 0.0807, 1.4866, 1.1913, 0.1067, 0.4058, 1.3016, 1.4442]\n",
      "iteration: 194493\n",
      "w: [0.7807, 2.6095, 0.1045, 0.3938, 0.5966, 0.1037, 2.4278, 0.1506, 1.5811, 1.1437, 0.1261, 0.6105, 1.204, 1.5036]\n",
      "iteration: 233405\n",
      "w: [0.7807, 2.6095, 0.107, 0.4476, 0.5476, 0.0859, 2.5205, 0.21, 1.6565, 1.0573, 0.1144, 0.4963, 1.0702, 1.4766]\n",
      "Loss in trainset: 0.3181\n",
      "Loss in testset: 0.3116\n",
      "iteration: 272250\n",
      "w: [0.7807, 2.6095, 0.0991, 0.4859, 0.5081, 0.097, 2.5921, 0.1725, 1.7145, 1.0402, 0.1117, 0.5275, 1.0247, 1.4394]\n",
      "iteration: 311162\n",
      "w: [0.7807, 2.6095, 0.0716, 0.5246, 0.486, 0.0742, 2.5984, 0.1949, 1.7151, 1.0099, 0.1388, 0.5696, 0.9843, 1.4277]\n",
      "iteration: 350074\n",
      "w: [0.7807, 2.6095, 0.0778, 0.4778, 0.4848, 0.0989, 2.6199, 0.1849, 1.7322, 0.9836, 0.1439, 0.5466, 0.9562, 1.3991]\n",
      "iteration: 388986\n",
      "w: [0.7807, 2.6095, 0.0733, 0.4708, 0.4869, 0.0956, 2.6209, 0.188, 1.7328, 0.9869, 0.1398, 0.5479, 0.9594, 1.3998]\n",
      "Loss in trainset: 0.3166\n",
      "Loss in testset: 0.3101\n"
     ]
    },
    {
     "data": {
      "image/png": "[encoded data removed]",
      "text/plain": [
       "<Figure size 640x480 with 1 Axes>"
      ]
     },
     "metadata": {},
     "output_type": "display_data"
    },
    {
     "name": "stdout",
     "output_type": "stream",
     "text": [
      "TRAIN: 150037 TEST: 73758\n",
      "dataset built\n",
      "Loss in trainset: 0.3324\n",
      "Loss in testset: 0.3747\n"
     ]
    },
    {
     "data": {
      "application/vnd.jupyter.widget-view+json": {
       "model_id": "4227371e7ae047239cbe7620a299cd21",
       "version_major": 2,
       "version_minor": 0
      },
      "text/plain": [
       "pre-train:   0%|          | 0/20733 [00:00<?, ?it/s]"
      ]
     },
     "metadata": {},
     "output_type": "display_data"
    },
    {
     "name": "stdout",
     "output_type": "stream",
     "text": [
      "w: [2.1209, 2.2311, 0.0, 0.5, 0.5, 0.2, 2.0, 0.12, 0.8, 2.0, 0.2, 0.2, 1.0, 0.5]\n"
     ]
    },
    {
     "data": {
      "application/vnd.jupyter.widget-view+json": {
       "model_id": "b2cd263382b740a8b0f8b9e7ee193316",
       "version_major": 2,
       "version_minor": 0
      },
      "text/plain": [
       "train:   0%|          | 0/387912 [00:00<?, ?it/s]"
      ]
     },
     "metadata": {},
     "output_type": "display_data"
    },
    {
     "name": "stdout",
     "output_type": "stream",
     "text": [
      "Loss in trainset: 0.3190\n",
      "Loss in testset: 0.3692\n",
      "iteration: 38656\n",
      "w: [2.2705, 2.3819, 0.2958, 1.2314, 0.6639, 0.1446, 2.3171, 0.2523, 1.2871, 1.4316, 0.2732, 0.4937, 1.3034, 1.5208]\n",
      "iteration: 77312\n",
      "w: [2.2705, 2.3819, 0.298, 0.8955, 0.6509, 0.2252, 2.4208, 0.1521, 1.4143, 1.26, 0.1556, 0.4674, 1.7065, 1.486]\n",
      "iteration: 115968\n",
      "w: [2.2705, 2.3819, 0.32, 0.4743, 0.6458, 0.1495, 2.5097, 0.1214, 1.5107, 1.1081, 0.0387, 0.3943, 1.747, 1.4683]\n",
      "Loss in trainset: 0.3043\n",
      "Loss in testset: 0.3558\n",
      "iteration: 154392\n",
      "w: [2.2705, 2.3819, 0.1629, 0.4646, 0.5139, 0.0787, 2.5862, 0.1717, 1.5975, 0.9458, 0.0125, 0.4188, 1.899, 1.5396]\n",
      "iteration: 193048\n",
      "w: [2.2705, 2.3819, 0.18, 0.5981, 0.436, 0.1286, 2.6292, 0.1398, 1.6329, 0.6413, 0.1063, 0.5731, 1.8113, 1.4821]\n",
      "iteration: 231704\n",
      "w: [2.2705, 2.3819, 0.1473, 0.4882, 0.4948, 0.1053, 2.5902, 0.1789, 1.5904, 0.6167, 0.0707, 0.5695, 1.7933, 1.4701]\n",
      "Loss in trainset: 0.3012\n",
      "Loss in testset: 0.3526\n",
      "iteration: 270128\n",
      "w: [2.2705, 2.3819, 0.12, 0.5902, 0.4903, 0.1036, 2.5981, 0.175, 1.5835, 0.552, 0.0705, 0.5299, 1.7116, 1.5105]\n",
      "iteration: 308784\n",
      "w: [2.2705, 2.3819, 0.0941, 0.546, 0.4471, 0.097, 2.6519, 0.1663, 1.6157, 0.6027, 0.055, 0.6062, 1.726, 1.4573]\n",
      "iteration: 347440\n",
      "w: [2.2705, 2.3819, 0.0823, 0.492, 0.4615, 0.0971, 2.6496, 0.1882, 1.6114, 0.5945, 0.0428, 0.6137, 1.722, 1.4464]\n",
      "iteration: 386096\n",
      "w: [2.2705, 2.3819, 0.0804, 0.4948, 0.4626, 0.097, 2.6493, 0.1882, 1.6105, 0.599, 0.0355, 0.6133, 1.7241, 1.4496]\n",
      "Loss in trainset: 0.2998\n",
      "Loss in testset: 0.3512\n"
     ]
    },
    {
     "data": {
      "image/png": "[encoded data removed]",
      "text/plain": [
       "<Figure size 640x480 with 1 Axes>"
      ]
     },
     "metadata": {},
     "output_type": "display_data"
    },
    {
     "name": "stdout",
     "output_type": "stream",
     "text": [
      "\n",
      "Training finished!\n"
     ]
    }
   ],
   "source": [
    "dataset = pd.read_csv(\"./revlog_history.tsv\", sep='\\t', index_col=None, dtype={'r_history': str ,'t_history': str} )\n",
    "dataset = dataset[(dataset['i'] > 1) & (dataset['delta_t'] > 0) & (dataset['t_history'].str.count(',0') == 0)]\n",
    "dataset['tensor'] = dataset.progress_apply(lambda x: lineToTensor(list(zip([x['t_history']], [x['r_history']]))[0]), axis=1)\n",
    "dataset['y'] = dataset['r'].map({1: 0, 2: 1, 3: 1, 4: 1})\n",
    "dataset['group'] = dataset['r_history'] + dataset['t_history']\n",
    "print(\"Tensorized!\")\n",
    "\n",
    "from sklearn.model_selection import StratifiedGroupKFold\n",
    "\n",
    "w = []\n",
    "\n",
    "sgkf = StratifiedGroupKFold(n_splits=3)\n",
    "for train_index, test_index in sgkf.split(dataset, dataset['i'], dataset['group']):\n",
    "    print(\"TRAIN:\", len(train_index), \"TEST:\",  len(test_index))\n",
    "    train_set = dataset.iloc[train_index].copy()\n",
    "    test_set = dataset.iloc[test_index].copy()\n",
    "    optimizer = Optimizer(train_set, test_set, n_epoch=3, lr=4e-2, batch_size=256)\n",
    "    w.append(optimizer.train())\n",
    "    optimizer.plot()\n",
    "\n",
    "print(\"\\nTraining finished!\")"
   ]
  },
  {
   "attachments": {},
   "cell_type": "markdown",
   "metadata": {},
   "source": [
    "### 2.3 Result\n",
    "\n",
    "Copy the optimal parameters for FSRS for you in the output of next code cell after running."
   ]
  },
  {
   "cell_type": "code",
   "execution_count": 6,
   "metadata": {},
   "outputs": [
    {
     "name": "stdout",
     "output_type": "stream",
     "text": [
      "[1.3656, 2.3215, 0.0752, 0.5053, 0.4849, 0.0937, 2.683, 0.2018, 1.6642, 0.7659, 0.0784, 0.5833, 1.2738, 1.3637]\n"
     ]
    }
   ],
   "source": [
    "w = np.array(w)\n",
    "avg_w = np.round(np.mean(w, axis=0), 4)\n",
    "print(avg_w.tolist())"
   ]
  },
  {
   "attachments": {},
   "cell_type": "markdown",
   "metadata": {},
   "source": [
    "### 2.4 Preview\n",
    "\n",
    "You can see the memory states and intervals generated by FSRS as if you press the good in each review at the due date scheduled by FSRS."
   ]
  },
  {
   "cell_type": "code",
   "execution_count": 7,
   "metadata": {},
   "outputs": [
    {
     "name": "stdout",
     "output_type": "stream",
     "text": [
      "1:again, 2:hard, 3:good, 4:easy\n",
      "\n",
      "first rating: 1\n",
      "rating history: 1,3,3,3,3,3,3,3,3,3,3\n",
      "interval history: 0,1,2,4,8,14,25,44,75,126,206\n",
      "difficulty history: 0,1.0,0.9,0.8,0.8,0.7,0.6,0.6,0.5,0.5,0.4\n",
      "\n",
      "first rating: 2\n",
      "rating history: 2,3,3,3,3,3,3,3,3,3,3\n",
      "interval history: 0,4,9,19,37,71,129,226,383,629,1005\n",
      "difficulty history: 0,0.5,0.5,0.4,0.4,0.3,0.3,0.3,0.3,0.2,0.2\n",
      "\n",
      "first rating: 3\n",
      "rating history: 3,3,3,3,3,3,3,3,3,3,3\n",
      "interval history: 0,6,18,47,108,228,445,815,1415,2347,3743\n",
      "difficulty history: 0,0.0,0.0,0.0,0.0,0.0,0.0,0.0,0.0,0.0,0.0\n",
      "\n",
      "first rating: 4\n",
      "rating history: 4,3,3,3,3,3,3,3,3,3,3\n",
      "interval history: 0,8,35,118,326,774,1631,3126,5556,9285,14749\n",
      "difficulty history: 0,-0.5,-0.5,-0.4,-0.4,-0.3,-0.3,-0.3,-0.3,-0.2,-0.2\n",
      "\n"
     ]
    }
   ],
   "source": [
    "requestRetention = 0.9  # recommended setting: 0.8 ~ 0.9\n",
    "\n",
    "\n",
    "class Collection:\n",
    "    def __init__(self, w):\n",
    "        self.model = FSRS(w)\n",
    "        self.model.eval()\n",
    "\n",
    "    def predict(self, t_history, r_history):\n",
    "        with torch.no_grad():\n",
    "            line_tensor = lineToTensor(list(zip([t_history], [r_history]))[0]).unsqueeze(1)\n",
    "            output_t = self.model(line_tensor)\n",
    "            return output_t[-1][0]\n",
    "        \n",
    "    def batch_predict(self, dataset):\n",
    "        fast_dataset = RevlogDataset(dataset)\n",
    "        outputs, _ = self.model(fast_dataset.x_train.transpose(0, 1))\n",
    "        stabilities, difficulties = outputs[fast_dataset.seq_len-1, torch.arange(len(fast_dataset))].transpose(0, 1)\n",
    "        return stabilities.tolist(), difficulties.tolist()\n",
    "\n",
    "my_collection = Collection(avg_w)\n",
    "print(\"1:again, 2:hard, 3:good, 4:easy\\n\")\n",
    "for first_rating in (1,2,3,4):\n",
    "    print(f'first rating: {first_rating}')\n",
    "    t_history = \"0\"\n",
    "    d_history = \"0\"\n",
    "    r_history = f\"{first_rating}\"  # the first rating of the new card\n",
    "    # print(\"stability, difficulty, lapses\")\n",
    "    for i in range(10):\n",
    "        states = my_collection.predict(t_history, r_history)\n",
    "        # print('{0:9.2f} {1:11.2f} {2:7.0f}'.format(\n",
    "            # *list(map(lambda x: round(float(x), 4), states))))\n",
    "        next_t = max(round(float(np.log(requestRetention)/np.log(0.9) * states[0])), 1)\n",
    "        difficulty = round(float(states[1]), 1)\n",
    "        t_history += f',{int(next_t)}'\n",
    "        d_history += f',{difficulty}'\n",
    "        r_history += f\",3\"\n",
    "    print(f\"rating history: {r_history}\")\n",
    "    print(f\"interval history: {t_history}\")\n",
    "    print(f\"difficulty history: {d_history}\")\n",
    "    print('')"
   ]
  },
  {
   "attachments": {},
   "cell_type": "markdown",
   "metadata": {},
   "source": [
    "You can change the `test_rating_sequence` to see the scheduling intervals in different ratings."
   ]
  },
  {
   "cell_type": "code",
   "execution_count": 8,
   "metadata": {},
   "outputs": [
    {
     "name": "stdout",
     "output_type": "stream",
     "text": [
      "tensor([6.0086, 0.0000])\n",
      "tensor([17.9079,  0.0000])\n",
      "tensor([46.5510,  0.0000])\n",
      "tensor([108.2357,   0.0000])\n",
      "tensor([227.7461,   0.0000])\n",
      "tensor([19.2631,  0.8789])\n",
      "tensor([4.2767, 1.6755])\n",
      "tensor([5.8643, 1.5185])\n",
      "tensor([8.4050, 1.3762])\n",
      "tensor([11.9540,  1.2473])\n",
      "tensor([17.5274,  1.1304])\n",
      "tensor([26.1620,  1.0245])\n",
      "rating history: 3,3,3,3,3,1,1,3,3,3,3,3\n",
      "interval history: 0,6,18,47,108,228,19,4,6,8,12,18,26\n",
      "difficulty history: 0,0.0,0.0,0.0,0.0,0.0,0.9,1.7,1.5,1.4,1.2,1.1,1.0\n"
     ]
    }
   ],
   "source": [
    "test_rating_sequence = \"3,3,3,3,3,1,1,3,3,3,3,3\"\n",
    "requestRetention = 0.9  # recommended setting: 0.8 ~ 0.9\n",
    "easyBonus = 1.3\n",
    "hardInterval = 1.2\n",
    "\n",
    "t_history = \"0\"\n",
    "d_history = \"0\"\n",
    "for i in range(len(test_rating_sequence.split(','))):\n",
    "    rating = test_rating_sequence[2*i]\n",
    "    last_t = int(t_history.split(',')[-1])\n",
    "    r_history = test_rating_sequence[:2*i+1]\n",
    "    states = my_collection.predict(t_history, r_history)\n",
    "    print(states)\n",
    "    next_t = max(1,round(float(np.log(requestRetention)/np.log(0.9) * states[0])))\n",
    "    if rating == '4':\n",
    "        next_t = round(next_t * easyBonus)\n",
    "    elif rating == '2':\n",
    "        next_t = round(last_t * hardInterval)\n",
    "    t_history += f',{int(next_t)}'\n",
    "    difficulty = round(float(states[1]), 1)\n",
    "    d_history += f',{difficulty}'\n",
    "print(f\"rating history: {test_rating_sequence}\")\n",
    "print(f\"interval history: {t_history}\")\n",
    "print(f\"difficulty history: {d_history}\")"
   ]
  },
  {
   "attachments": {},
   "cell_type": "markdown",
   "metadata": {},
   "source": [
    "### 2.5 Predict memory states and distribution of difficulty\n",
    "\n",
    "Predict memory states for each review group and save them in [./prediction.tsv](./prediction.tsv).\n",
    "\n",
    "Meanwhile, it will count the distribution of difficulty."
   ]
  },
  {
   "cell_type": "code",
   "execution_count": 9,
   "metadata": {},
   "outputs": [
    {
     "name": "stdout",
     "output_type": "stream",
     "text": [
      "prediction.tsv saved.\n",
      "difficulty\n",
      "-2    0.001515\n",
      "-1    0.102308\n",
      " 0    0.329480\n",
      " 1    0.275904\n",
      " 2    0.208767\n",
      " 3    0.068241\n",
      " 4    0.012659\n",
      " 5    0.001095\n",
      " 6    0.000031\n",
      "Name: count, dtype: float64\n"
     ]
    }
   ],
   "source": [
    "stabilities, difficulties = my_collection.batch_predict(dataset)\n",
    "stabilities = map(lambda x: round(x, 2), stabilities)\n",
    "difficulties = map(lambda x: round(x, 2), difficulties)\n",
    "dataset['stability'] = list(stabilities)\n",
    "dataset['difficulty'] = list(difficulties)\n",
    "prediction = dataset.groupby(by=['t_history', 'r_history']).agg({\"stability\": \"mean\", \"difficulty\": \"mean\", \"id\": \"count\"})\n",
    "prediction.reset_index(inplace=True)\n",
    "prediction.sort_values(by=['r_history'], inplace=True)\n",
    "prediction.rename(columns={\"id\": \"count\"}, inplace=True)\n",
    "prediction.to_csv(\"./prediction.tsv\", sep='\\t', index=None)\n",
    "print(\"prediction.tsv saved.\")\n",
    "prediction['difficulty'] = prediction['difficulty'].map(lambda x: int(round(x)))\n",
    "difficulty_distribution = prediction.groupby(by=['difficulty'])['count'].sum() / prediction['count'].sum()\n",
    "print(difficulty_distribution)\n",
    "d_max = difficulty_distribution.index.max()\n",
    "d_min = difficulty_distribution.index.min()\n",
    "difficulty_distribution_padding = np.zeros(d_max - d_min + 1)\n",
    "difficulty_distribution_padding = difficulty_distribution.values"
   ]
  },
  {
   "attachments": {},
   "cell_type": "markdown",
   "metadata": {},
   "source": [
    "## 3 Optimize retention to minimize the time of reviews\n",
    "\n",
    "Calculate the optimal retention to minimize the time for long-term memory consolidation. It is an experimental feature. You can use the simulator to get more accurate results:\n",
    "\n",
    "https://github.com/open-spaced-repetition/fsrs4anki/blob/main/fsrs4anki_simulator.ipynb"
   ]
  },
  {
   "cell_type": "code",
   "execution_count": 10,
   "metadata": {},
   "outputs": [
    {
     "name": "stdout",
     "output_type": "stream",
     "text": [
      "average time for failed cards: 25.0s\n",
      "average time for recalled cards: 8.0s\n",
      "terminal stability:  100.18\n"
     ]
    },
    {
     "data": {
      "application/vnd.jupyter.widget-view+json": {
       "model_id": "a30885062ef24b768315879cf65e11d9",
       "version_major": 2,
       "version_minor": 0
      },
      "text/plain": [
       "  0%|          | 0/15 [00:00<?, ?it/s]"
      ]
     },
     "metadata": {},
     "output_type": "display_data"
    },
    {
     "name": "stdout",
     "output_type": "stream",
     "text": [
      "expected_time.csv saved.\n",
      "\n",
      "-----suggested retention (experimental): 0.76-----\n"
     ]
    },
    {
     "data": {
      "image/png": "[encoded data removed]",
      "text/plain": [
       "<Figure size 640x480 with 1 Axes>"
      ]
     },
     "metadata": {},
     "output_type": "display_data"
    }
   ],
   "source": [
    "base = 1.01\n",
    "index_len = 664\n",
    "index_offset = 200\n",
    "d_offset = 1\n",
    "r_time = 8\n",
    "f_time = 25\n",
    "max_time = 200000\n",
    "\n",
    "type_block = dict()\n",
    "type_count = dict()\n",
    "type_time = dict()\n",
    "last_t = type_sequence[0]\n",
    "type_block[last_t] = 1\n",
    "type_count[last_t] = 1\n",
    "type_time[last_t] = time_sequence[0]\n",
    "for i,t in enumerate(type_sequence[1:]):\n",
    "    type_count[t] = type_count.setdefault(t, 0) + 1\n",
    "    type_time[t] = type_time.setdefault(t, 0) + time_sequence[i]\n",
    "    if t != last_t:\n",
    "        type_block[t] = type_block.setdefault(t, 0) + 1\n",
    "    last_t = t\n",
    "\n",
    "r_time = round(type_time[1]/type_count[1]/1000, 1)\n",
    "\n",
    "if 2 in type_count and 2 in type_block:\n",
    "    f_time = round(type_time[2]/type_block[2]/1000 + r_time, 1)\n",
    "\n",
    "print(f\"average time for failed cards: {f_time}s\")\n",
    "print(f\"average time for recalled cards: {r_time}s\")\n",
    "\n",
    "def stability2index(stability):\n",
    "    return int(round(np.log(stability) / np.log(base)) + index_offset)\n",
    "\n",
    "def init_stability(d):\n",
    "    return max(((d - 0) / -avg_w[3] + 2) * avg_w[1] + avg_w[0], np.power(base, -index_offset))\n",
    "\n",
    "def cal_next_recall_stability(s, r, d, response):\n",
    "    if response == 1:\n",
    "        return s * (1 + np.exp(avg_w[6]) * (np.exp(-avg_w[13] * d) + avg_w[2]) * np.power(s, -avg_w[7]) * (np.exp((1 - r) * avg_w[8]) - 1))\n",
    "    else:\n",
    "        return avg_w[9] * np.exp(-avg_w[10] * d) * np.power(s, avg_w[11]) * np.exp((1 - r) * avg_w[12])\n",
    "\n",
    "\n",
    "stability_list = np.array([np.power(base, i - index_offset) for i in range(index_len)])\n",
    "print(f\"terminal stability: {stability_list.max(): .2f}\")\n",
    "df = pd.DataFrame(columns=[\"retention\", \"difficulty\", \"time\"])\n",
    "\n",
    "for percentage in notebook.tqdm(range(96, 66, -2)):\n",
    "    recall = percentage / 100\n",
    "    time_list = np.zeros((d_max-d_min+1, index_len))\n",
    "    time_list[:,:-1] = max_time\n",
    "    for d in range(d_max, d_min-1, -1):\n",
    "        s0 = init_stability(d)\n",
    "        s0_index = stability2index(s0)\n",
    "        diff = max_time\n",
    "        while diff > 0.1:\n",
    "            s0_time = time_list[d - d_min][s0_index]\n",
    "            for s_index in range(index_len - 2, -1, -1):\n",
    "                stability = stability_list[s_index]\n",
    "                interval = max(1, round(stability * np.log(recall) / np.log(0.9)))\n",
    "                p_recall = np.power(0.9, interval / stability)\n",
    "                recall_s = cal_next_recall_stability(stability, p_recall, d, 1)\n",
    "                forget_d = min(d + d_offset, d_max)\n",
    "                forget_s = cal_next_recall_stability(stability, p_recall, forget_d, 0)\n",
    "                recall_s_index = min(stability2index(recall_s), index_len - 1)\n",
    "                recall_s_index = max(recall_s_index, s_index + 1)\n",
    "                forget_s_index = min(max(stability2index(forget_s), 0), index_len - 1)\n",
    "                recall_time = time_list[d - d_min][recall_s_index] + r_time\n",
    "                forget_time = time_list[forget_d - d_min][forget_s_index] + f_time\n",
    "                exp_time = p_recall * recall_time + (1.0 - p_recall) * forget_time\n",
    "                if exp_time < time_list[d - d_min][s_index]:\n",
    "                    time_list[d - d_min][s_index] = exp_time\n",
    "            diff = s0_time - time_list[d - d_min][s0_index]\n",
    "        df.loc[0 if pd.isnull(df.index.max()) else df.index.max() + 1] = [recall, d, s0_time]\n",
    "\n",
    "df.sort_values(by=[\"difficulty\", \"retention\"], inplace=True)\n",
    "df.to_csv(\"./expected_time.csv\", index=False)\n",
    "print(\"expected_time.csv saved.\")\n",
    "\n",
    "optimal_retention_list = np.zeros(d_max-d_min+1)\n",
    "for d in range(d_min, d_max+1):\n",
    "    retention = df[df[\"difficulty\"] == d][\"retention\"]\n",
    "    time = df[df[\"difficulty\"] == d][\"time\"]\n",
    "    optimal_retention = retention.iat[time.argmin()]\n",
    "    optimal_retention_list[d-d_min] = optimal_retention\n",
    "    plt.plot(retention, time, label=f\"d={d}, r={optimal_retention}\")\n",
    "print(f\"\\n-----suggested retention (experimental): {np.inner(difficulty_distribution_padding, optimal_retention_list):.2f}-----\")\n",
    "plt.ylabel(\"expected time (second)\")\n",
    "plt.xlabel(\"retention\")\n",
    "plt.legend()\n",
    "plt.grid()\n",
    "plt.semilogy()\n",
    "plt.show()"
   ]
  },
  {
   "attachments": {},
   "cell_type": "markdown",
   "metadata": {},
   "source": [
    "## 4 Evaluate the model"
   ]
  },
  {
   "attachments": {},
   "cell_type": "markdown",
   "metadata": {},
   "source": [
    "### 4.1 Loss\n",
    "\n",
    "Evaluate the model with the log loss. It will compare the log loss between initial model and trained model.\n",
    "\n",
    "And it will predict the stability, difficulty and retrievability for each revlog in [./evaluation.tsv](./evaluation.tsv)."
   ]
  },
  {
   "cell_type": "code",
   "execution_count": 11,
   "metadata": {},
   "outputs": [
    {
     "name": "stdout",
     "output_type": "stream",
     "text": [
      "Loss before training: 0.3464\n",
      "Loss after training: 0.3146\n"
     ]
    }
   ],
   "source": [
    "my_collection = Collection(init_w)\n",
    "stabilities, difficulties = my_collection.batch_predict(dataset)\n",
    "dataset['stability'] = stabilities\n",
    "dataset['difficulty'] = difficulties\n",
    "dataset['p'] = np.exp(np.log(0.9) * dataset['delta_t'] / dataset['stability'])\n",
    "dataset['log_loss'] = dataset.apply(lambda row: - np.log(row['p']) if row['y'] == 1 else - np.log(1 - row['p']), axis=1)\n",
    "print(f\"Loss before training: {dataset['log_loss'].mean():.4f}\")\n",
    "\n",
    "my_collection = Collection(avg_w)\n",
    "stabilities, difficulties = my_collection.batch_predict(dataset)\n",
    "dataset['stability'] = stabilities\n",
    "dataset['difficulty'] = difficulties\n",
    "dataset['p'] = np.exp(np.log(0.9) * dataset['delta_t'] / dataset['stability'])\n",
    "dataset['log_loss'] = dataset.apply(lambda row: - np.log(row['p']) if row['y'] == 1 else - np.log(1 - row['p']), axis=1)\n",
    "print(f\"Loss after training: {dataset['log_loss'].mean():.4f}\")\n",
    "\n",
    "tmp = dataset.copy()\n",
    "tmp['stability'] = tmp['stability'].map(lambda x: round(x, 2))\n",
    "tmp['difficulty'] = tmp['difficulty'].map(lambda x: round(x, 2))\n",
    "tmp['p'] = tmp['p'].map(lambda x: round(x, 2))\n",
    "tmp['log_loss'] = tmp['log_loss'].map(lambda x: round(x, 2))\n",
    "tmp.rename(columns={\"r\": \"grade\", \"p\": \"retrievability\"}, inplace=True)\n",
    "tmp[['id', 'cid', 'review_date', 'r_history', 't_history', 'delta_t', 'grade', 'stability', 'difficulty', 'retrievability', 'log_loss']].to_csv(\"./evaluation.tsv\", sep='\\t', index=False)\n",
    "del tmp"
   ]
  },
  {
   "attachments": {},
   "cell_type": "markdown",
   "metadata": {},
   "source": [
    "### 4.2 Calibration graph\n",
    "\n",
    "1. FSRS predicts the stability and retention for each review.\n",
    "2. Reviews are grouped into 40 bins according to their predicted retention.\n",
    "3. Count the true retention of each bin.\n",
    "4. Plot (predicted retention, true retention) in the line graph.\n",
    "5. Plot (predicted retention, size of bin) in the bar graph.\n",
    "6. Combine these graphs to create the calibration graph.\n",
    "\n",
    "Ideally, the blue line should be aligned with the orange one. If the blue line is higher than the orange line, the FSRS underestimates the retention. When the size of reviews within a bin is small, actual retention may deviate largely, which is normal.\n",
    "\n",
    "R-squared (aka the coefficient of determination), is the proportion of the variation in the dependent variable that is predictable from the independent variable(s). The higher the R-squared, the better the model fits your data. For details, please see https://en.wikipedia.org/wiki/Coefficient_of_determination\n",
    "\n",
    "RMSE (root mean squared error) is the square root of the average of squared differences between prediction and actual observation. The lower the RMSE, the better the model fits your data. For details, please see https://en.wikipedia.org/wiki/Root-mean-square_deviation"
   ]
  },
  {
   "cell_type": "code",
   "execution_count": 12,
   "metadata": {},
   "outputs": [
    {
     "name": "stdout",
     "output_type": "stream",
     "text": [
      "R-squared: 0.9322\n",
      "RMSE: 0.0169\n"
     ]
    },
    {
     "data": {
      "image/png": "[encoded data removed]",
      "text/plain": [
       "<Figure size 640x480 with 2 Axes>"
      ]
     },
     "metadata": {},
     "output_type": "display_data"
    }
   ],
   "source": [
    "from sklearn.metrics import mean_squared_error, r2_score\n",
    "\n",
    "\n",
    "# code from https://github.com/papousek/duolingo-halflife-regression/blob/master/evaluation.py\n",
    "def load_brier(predictions, real, bins=20):\n",
    "    counts = np.zeros(bins)\n",
    "    correct = np.zeros(bins)\n",
    "    prediction = np.zeros(bins)\n",
    "    for p, r in zip(predictions, real):\n",
    "        bin = min(int(p * bins), bins - 1)\n",
    "        counts[bin] += 1\n",
    "        correct[bin] += r\n",
    "        prediction[bin] += p\n",
    "    np.seterr(invalid='ignore')\n",
    "    prediction_means = prediction / counts\n",
    "    prediction_means[np.isnan(prediction_means)] = ((np.arange(bins) + 0.5) / bins)[np.isnan(prediction_means)]\n",
    "    correct_means = correct / counts\n",
    "    correct_means[np.isnan(correct_means)] = 0\n",
    "    size = len(predictions)\n",
    "    answer_mean = sum(correct) / size\n",
    "    return {\n",
    "        \"reliability\": sum(counts * (correct_means - prediction_means) ** 2) / size,\n",
    "        \"resolution\": sum(counts * (correct_means - answer_mean) ** 2) / size,\n",
    "        \"uncertainty\": answer_mean * (1 - answer_mean),\n",
    "        \"detail\": {\n",
    "            \"bin_count\": bins,\n",
    "            \"bin_counts\": list(counts),\n",
    "            \"bin_prediction_means\": list(prediction_means),\n",
    "            \"bin_correct_means\": list(correct_means),\n",
    "        }\n",
    "    }\n",
    "\n",
    "\n",
    "def plot_brier(predictions, real, bins=20):\n",
    "    brier = load_brier(predictions, real, bins=bins)\n",
    "    bin_prediction_means = brier['detail']['bin_prediction_means']\n",
    "    bin_correct_means = brier['detail']['bin_correct_means']\n",
    "    bin_counts = brier['detail']['bin_counts']\n",
    "    r2 = r2_score(bin_correct_means, bin_prediction_means, sample_weight=bin_counts)\n",
    "    rmse = np.sqrt(mean_squared_error(bin_correct_means, bin_prediction_means, sample_weight=bin_counts))\n",
    "    print(f\"R-squared: {r2:.4f}\")\n",
    "    print(f\"RMSE: {rmse:.4f}\")\n",
    "    plt.figure()\n",
    "    ax = plt.gca()\n",
    "    ax.set_xlim([0, 1])\n",
    "    ax.set_ylim([0, 1])\n",
    "    plt.grid(True)\n",
    "    plt.plot(bin_prediction_means, bin_correct_means, label='Actual Calibration')\n",
    "    plt.plot((0, 1), (0, 1), label='Perfect Calibration')\n",
    "    bin_count = brier['detail']['bin_count']\n",
    "    counts = np.array(bin_counts)\n",
    "    bins = (np.arange(bin_count) + 0.5) / bin_count\n",
    "    plt.legend(loc='upper center')\n",
    "    plt.xlabel('Predicted R')\n",
    "    plt.ylabel('Actual R')\n",
    "    plt.twinx()\n",
    "    plt.ylabel('Number of reviews')\n",
    "    plt.bar(bins, counts, width=(0.8 / bin_count), ec='k', lw=.2, alpha=0.5, label='Number of reviews')\n",
    "    plt.legend(loc='lower center')\n",
    "\n",
    "\n",
    "plot_brier(dataset['p'], dataset['y'], bins=40)\n",
    "plt.show()"
   ]
  },
  {
   "cell_type": "code",
   "execution_count": 13,
   "metadata": {},
   "outputs": [
    {
     "data": {
      "image/png": "[encoded data removed]",
      "text/plain": [
       "<Figure size 640x480 with 2 Axes>"
      ]
     },
     "metadata": {},
     "output_type": "display_data"
    }
   ],
   "source": [
    "import matplotlib.ticker as ticker\n",
    "\n",
    "def to_percent(temp, position):\n",
    "    return '%1.0f' % (100 * temp) + '%'\n",
    "\n",
    "fig = plt.figure(1)\n",
    "ax1 = fig.add_subplot(111)\n",
    "ax2 = ax1.twinx()\n",
    "lns = []\n",
    "\n",
    "stability_calibration = pd.DataFrame(columns=['stability', 'predicted_retention', 'actual_retention'])\n",
    "stability_calibration = dataset[['stability', 'p', 'y']].copy()\n",
    "stability_calibration['bin'] = stability_calibration['stability'].map(lambda x: math.pow(1.2, math.floor(math.log(x, 1.2))))\n",
    "stability_group = stability_calibration.groupby('bin').count()\n",
    "\n",
    "lns1 = ax1.bar(x=stability_group.index, height=stability_group['y'], width=stability_group.index / 5.5,\n",
    "                ec='k', lw=.2, label='Number of predictions', alpha=0.5)\n",
    "ax1.set_ylabel(\"Number of predictions\")\n",
    "ax1.set_xlabel(\"Stability (days)\")\n",
    "ax1.semilogx()\n",
    "lns.append(lns1)\n",
    "\n",
    "stability_group = stability_calibration.groupby(by='bin').agg('mean')\n",
    "lns2 = ax2.plot(stability_group['y'], label='Actual retention')\n",
    "lns3 = ax2.plot(stability_group['p'], label='Predicted retention')\n",
    "ax2.set_ylabel(\"Retention\")\n",
    "ax2.set_ylim(0, 1)\n",
    "lns.append(lns2[0])\n",
    "lns.append(lns3[0])\n",
    "\n",
    "labs = [l.get_label() for l in lns]\n",
    "ax2.legend(lns, labs, loc='lower right')\n",
    "plt.grid(linestyle='--')\n",
    "plt.gca().yaxis.set_major_formatter(ticker.FuncFormatter(to_percent))\n",
    "plt.gca().xaxis.set_major_formatter(ticker.FormatStrFormatter('%d'))\n",
    "plt.show()"
   ]
  },
  {
   "cell_type": "code",
   "execution_count": 14,
   "metadata": {},
   "outputs": [
    {
     "data": {
      "text/html": [
       "<style type=\"text/css\">\n",
       "#T_293cc_row0_col0, #T_293cc_row0_col1, #T_293cc_row0_col2, #T_293cc_row0_col5, #T_293cc_row1_col0, #T_293cc_row1_col1, #T_293cc_row2_col0, #T_293cc_row2_col1, #T_293cc_row2_col5, #T_293cc_row3_col0, #T_293cc_row3_col1, #T_293cc_row3_col5, #T_293cc_row4_col0, #T_293cc_row4_col1, #T_293cc_row4_col5, #T_293cc_row5_col0, #T_293cc_row5_col5, #T_293cc_row6_col0, #T_293cc_row6_col5, #T_293cc_row7_col4, #T_293cc_row7_col5, #T_293cc_row8_col0, #T_293cc_row8_col4, #T_293cc_row8_col5, #T_293cc_row9_col0, #T_293cc_row9_col4, #T_293cc_row9_col5, #T_293cc_row10_col4, #T_293cc_row10_col5, #T_293cc_row11_col4, #T_293cc_row11_col5, #T_293cc_row12_col0, #T_293cc_row12_col3, #T_293cc_row12_col4, #T_293cc_row12_col5, #T_293cc_row13_col3, #T_293cc_row13_col4, #T_293cc_row13_col5, #T_293cc_row14_col3, #T_293cc_row14_col4, #T_293cc_row14_col5, #T_293cc_row15_col2, #T_293cc_row15_col3, #T_293cc_row15_col4, #T_293cc_row15_col5, #T_293cc_row16_col2, #T_293cc_row16_col3, #T_293cc_row16_col4, #T_293cc_row16_col5, #T_293cc_row17_col2, #T_293cc_row17_col3, #T_293cc_row17_col4, #T_293cc_row17_col5, #T_293cc_row18_col2, #T_293cc_row18_col3, #T_293cc_row18_col4, #T_293cc_row18_col5 {\n",
       "  background-color: #000000;\n",
       "  color: #f1f1f1;\n",
       "}\n",
       "#T_293cc_row0_col3 {\n",
       "  background-color: #ff1111;\n",
       "  color: #f1f1f1;\n",
       "}\n",
       "#T_293cc_row0_col4 {\n",
       "  background-color: #ff7575;\n",
       "  color: #f1f1f1;\n",
       "}\n",
       "#T_293cc_row1_col2 {\n",
       "  background-color: #ff5959;\n",
       "  color: #f1f1f1;\n",
       "}\n",
       "#T_293cc_row1_col3, #T_293cc_row5_col4 {\n",
       "  background-color: #ff9595;\n",
       "  color: #000000;\n",
       "}\n",
       "#T_293cc_row1_col4 {\n",
       "  background-color: #e9e9ff;\n",
       "  color: #000000;\n",
       "}\n",
       "#T_293cc_row1_col5 {\n",
       "  background-color: #ffa1a1;\n",
       "  color: #000000;\n",
       "}\n",
       "#T_293cc_row2_col2 {\n",
       "  background-color: #ff2d2d;\n",
       "  color: #f1f1f1;\n",
       "}\n",
       "#T_293cc_row2_col3, #T_293cc_row18_col0 {\n",
       "  background-color: #c5c5ff;\n",
       "  color: #000000;\n",
       "}\n",
       "#T_293cc_row2_col4, #T_293cc_row5_col1, #T_293cc_row14_col2, #T_293cc_row15_col1, #T_293cc_row16_col1, #T_293cc_row18_col1 {\n",
       "  background-color: #f5f5ff;\n",
       "  color: #000000;\n",
       "}\n",
       "#T_293cc_row3_col2, #T_293cc_row3_col4, #T_293cc_row5_col3, #T_293cc_row12_col2 {\n",
       "  background-color: #fdfdff;\n",
       "  color: #000000;\n",
       "}\n",
       "#T_293cc_row3_col3, #T_293cc_row7_col0, #T_293cc_row11_col0 {\n",
       "  background-color: #d9d9ff;\n",
       "  color: #000000;\n",
       "}\n",
       "#T_293cc_row4_col2, #T_293cc_row8_col2, #T_293cc_row12_col1 {\n",
       "  background-color: #fffdfd;\n",
       "  color: #000000;\n",
       "}\n",
       "#T_293cc_row4_col3, #T_293cc_row5_col2, #T_293cc_row6_col2 {\n",
       "  background-color: #d1d1ff;\n",
       "  color: #000000;\n",
       "}\n",
       "#T_293cc_row4_col4, #T_293cc_row7_col3, #T_293cc_row9_col3, #T_293cc_row13_col2 {\n",
       "  background-color: #ffe9e9;\n",
       "  color: #000000;\n",
       "}\n",
       "#T_293cc_row6_col1, #T_293cc_row6_col3, #T_293cc_row11_col2, #T_293cc_row14_col1 {\n",
       "  background-color: #fff1f1;\n",
       "  color: #000000;\n",
       "}\n",
       "#T_293cc_row6_col4 {\n",
       "  background-color: #ff9d9d;\n",
       "  color: #000000;\n",
       "}\n",
       "#T_293cc_row7_col1, #T_293cc_row8_col1, #T_293cc_row10_col1 {\n",
       "  background-color: #e5e5ff;\n",
       "  color: #000000;\n",
       "}\n",
       "#T_293cc_row7_col2, #T_293cc_row9_col1 {\n",
       "  background-color: #f1f1ff;\n",
       "  color: #000000;\n",
       "}\n",
       "#T_293cc_row8_col3 {\n",
       "  background-color: #ffcdcd;\n",
       "  color: #000000;\n",
       "}\n",
       "#T_293cc_row9_col2, #T_293cc_row10_col2, #T_293cc_row16_col0 {\n",
       "  background-color: #ffe5e5;\n",
       "  color: #000000;\n",
       "}\n",
       "#T_293cc_row10_col0 {\n",
       "  background-color: #ededff;\n",
       "  color: #000000;\n",
       "}\n",
       "#T_293cc_row10_col3, #T_293cc_row11_col1 {\n",
       "  background-color: #fff9f9;\n",
       "  color: #000000;\n",
       "}\n",
       "#T_293cc_row11_col3 {\n",
       "  background-color: #ffe1e1;\n",
       "  color: #000000;\n",
       "}\n",
       "#T_293cc_row13_col0, #T_293cc_row17_col1 {\n",
       "  background-color: #f9f9ff;\n",
       "  color: #000000;\n",
       "}\n",
       "#T_293cc_row13_col1, #T_293cc_row17_col0 {\n",
       "  background-color: #fff5f5;\n",
       "  color: #000000;\n",
       "}\n",
       "#T_293cc_row14_col0, #T_293cc_row15_col0 {\n",
       "  background-color: #ffeded;\n",
       "  color: #000000;\n",
       "}\n",
       "</style>\n",
       "<table id=\"T_293cc_\">\n",
       "  <thead>\n",
       "    <tr>\n",
       "      <th class=\"index_name level0\" >d_bin</th>\n",
       "      <th class=\"col_heading level0 col0\" >-1</th>\n",
       "      <th class=\"col_heading level0 col1\" >0</th>\n",
       "      <th class=\"col_heading level0 col2\" >1</th>\n",
       "      <th class=\"col_heading level0 col3\" >2</th>\n",
       "      <th class=\"col_heading level0 col4\" >3</th>\n",
       "      <th class=\"col_heading level0 col5\" >4</th>\n",
       "    </tr>\n",
       "    <tr>\n",
       "      <th class=\"index_name level0\" >s_bin</th>\n",
       "      <th class=\"blank col0\" >&nbsp;</th>\n",
       "      <th class=\"blank col1\" >&nbsp;</th>\n",
       "      <th class=\"blank col2\" >&nbsp;</th>\n",
       "      <th class=\"blank col3\" >&nbsp;</th>\n",
       "      <th class=\"blank col4\" >&nbsp;</th>\n",
       "      <th class=\"blank col5\" >&nbsp;</th>\n",
       "    </tr>\n",
       "  </thead>\n",
       "  <tbody>\n",
       "    <tr>\n",
       "      <th id=\"T_293cc_level0_row0\" class=\"row_heading level0 row0\" >0.71</th>\n",
       "      <td id=\"T_293cc_row0_col0\" class=\"data row0 col0\" ></td>\n",
       "      <td id=\"T_293cc_row0_col1\" class=\"data row0 col1\" ></td>\n",
       "      <td id=\"T_293cc_row0_col2\" class=\"data row0 col2\" ></td>\n",
       "      <td id=\"T_293cc_row0_col3\" class=\"data row0 col3\" >9.23%</td>\n",
       "      <td id=\"T_293cc_row0_col4\" class=\"data row0 col4\" >5.36%</td>\n",
       "      <td id=\"T_293cc_row0_col5\" class=\"data row0 col5\" ></td>\n",
       "    </tr>\n",
       "    <tr>\n",
       "      <th id=\"T_293cc_level0_row1\" class=\"row_heading level0 row1\" >1.0</th>\n",
       "      <td id=\"T_293cc_row1_col0\" class=\"data row1 col0\" ></td>\n",
       "      <td id=\"T_293cc_row1_col1\" class=\"data row1 col1\" ></td>\n",
       "      <td id=\"T_293cc_row1_col2\" class=\"data row1 col2\" >6.49%</td>\n",
       "      <td id=\"T_293cc_row1_col3\" class=\"data row1 col3\" >4.08%</td>\n",
       "      <td id=\"T_293cc_row1_col4\" class=\"data row1 col4\" >-0.79%</td>\n",
       "      <td id=\"T_293cc_row1_col5\" class=\"data row1 col5\" >3.63%</td>\n",
       "    </tr>\n",
       "    <tr>\n",
       "      <th id=\"T_293cc_level0_row2\" class=\"row_heading level0 row2\" >1.4</th>\n",
       "      <td id=\"T_293cc_row2_col0\" class=\"data row2 col0\" ></td>\n",
       "      <td id=\"T_293cc_row2_col1\" class=\"data row2 col1\" ></td>\n",
       "      <td id=\"T_293cc_row2_col2\" class=\"data row2 col2\" >8.25%</td>\n",
       "      <td id=\"T_293cc_row2_col3\" class=\"data row2 col3\" >-2.20%</td>\n",
       "      <td id=\"T_293cc_row2_col4\" class=\"data row2 col4\" >-0.34%</td>\n",
       "      <td id=\"T_293cc_row2_col5\" class=\"data row2 col5\" ></td>\n",
       "    </tr>\n",
       "    <tr>\n",
       "      <th id=\"T_293cc_level0_row3\" class=\"row_heading level0 row3\" >1.96</th>\n",
       "      <td id=\"T_293cc_row3_col0\" class=\"data row3 col0\" ></td>\n",
       "      <td id=\"T_293cc_row3_col1\" class=\"data row3 col1\" ></td>\n",
       "      <td id=\"T_293cc_row3_col2\" class=\"data row3 col2\" >-0.03%</td>\n",
       "      <td id=\"T_293cc_row3_col3\" class=\"data row3 col3\" >-1.55%</td>\n",
       "      <td id=\"T_293cc_row3_col4\" class=\"data row3 col4\" >-0.10%</td>\n",
       "      <td id=\"T_293cc_row3_col5\" class=\"data row3 col5\" ></td>\n",
       "    </tr>\n",
       "    <tr>\n",
       "      <th id=\"T_293cc_level0_row4\" class=\"row_heading level0 row4\" >2.74</th>\n",
       "      <td id=\"T_293cc_row4_col0\" class=\"data row4 col0\" ></td>\n",
       "      <td id=\"T_293cc_row4_col1\" class=\"data row4 col1\" ></td>\n",
       "      <td id=\"T_293cc_row4_col2\" class=\"data row4 col2\" >0.03%</td>\n",
       "      <td id=\"T_293cc_row4_col3\" class=\"data row4 col3\" >-1.80%</td>\n",
       "      <td id=\"T_293cc_row4_col4\" class=\"data row4 col4\" >0.85%</td>\n",
       "      <td id=\"T_293cc_row4_col5\" class=\"data row4 col5\" ></td>\n",
       "    </tr>\n",
       "    <tr>\n",
       "      <th id=\"T_293cc_level0_row5\" class=\"row_heading level0 row5\" >3.84</th>\n",
       "      <td id=\"T_293cc_row5_col0\" class=\"data row5 col0\" ></td>\n",
       "      <td id=\"T_293cc_row5_col1\" class=\"data row5 col1\" >-0.40%</td>\n",
       "      <td id=\"T_293cc_row5_col2\" class=\"data row5 col2\" >-1.76%</td>\n",
       "      <td id=\"T_293cc_row5_col3\" class=\"data row5 col3\" >-0.06%</td>\n",
       "      <td id=\"T_293cc_row5_col4\" class=\"data row5 col4\" >4.20%</td>\n",
       "      <td id=\"T_293cc_row5_col5\" class=\"data row5 col5\" ></td>\n",
       "    </tr>\n",
       "    <tr>\n",
       "      <th id=\"T_293cc_level0_row6\" class=\"row_heading level0 row6\" >5.38</th>\n",
       "      <td id=\"T_293cc_row6_col0\" class=\"data row6 col0\" ></td>\n",
       "      <td id=\"T_293cc_row6_col1\" class=\"data row6 col1\" >0.56%</td>\n",
       "      <td id=\"T_293cc_row6_col2\" class=\"data row6 col2\" >-1.73%</td>\n",
       "      <td id=\"T_293cc_row6_col3\" class=\"data row6 col3\" >0.54%</td>\n",
       "      <td id=\"T_293cc_row6_col4\" class=\"data row6 col4\" >3.75%</td>\n",
       "      <td id=\"T_293cc_row6_col5\" class=\"data row6 col5\" ></td>\n",
       "    </tr>\n",
       "    <tr>\n",
       "      <th id=\"T_293cc_level0_row7\" class=\"row_heading level0 row7\" >7.53</th>\n",
       "      <td id=\"T_293cc_row7_col0\" class=\"data row7 col0\" >-1.44%</td>\n",
       "      <td id=\"T_293cc_row7_col1\" class=\"data row7 col1\" >-1.08%</td>\n",
       "      <td id=\"T_293cc_row7_col2\" class=\"data row7 col2\" >-0.61%</td>\n",
       "      <td id=\"T_293cc_row7_col3\" class=\"data row7 col3\" >0.82%</td>\n",
       "      <td id=\"T_293cc_row7_col4\" class=\"data row7 col4\" ></td>\n",
       "      <td id=\"T_293cc_row7_col5\" class=\"data row7 col5\" ></td>\n",
       "    </tr>\n",
       "    <tr>\n",
       "      <th id=\"T_293cc_level0_row8\" class=\"row_heading level0 row8\" >10.54</th>\n",
       "      <td id=\"T_293cc_row8_col0\" class=\"data row8 col0\" ></td>\n",
       "      <td id=\"T_293cc_row8_col1\" class=\"data row8 col1\" >-1.09%</td>\n",
       "      <td id=\"T_293cc_row8_col2\" class=\"data row8 col2\" >0.03%</td>\n",
       "      <td id=\"T_293cc_row8_col3\" class=\"data row8 col3\" >1.93%</td>\n",
       "      <td id=\"T_293cc_row8_col4\" class=\"data row8 col4\" ></td>\n",
       "      <td id=\"T_293cc_row8_col5\" class=\"data row8 col5\" ></td>\n",
       "    </tr>\n",
       "    <tr>\n",
       "      <th id=\"T_293cc_level0_row9\" class=\"row_heading level0 row9\" >14.76</th>\n",
       "      <td id=\"T_293cc_row9_col0\" class=\"data row9 col0\" ></td>\n",
       "      <td id=\"T_293cc_row9_col1\" class=\"data row9 col1\" >-0.61%</td>\n",
       "      <td id=\"T_293cc_row9_col2\" class=\"data row9 col2\" >1.08%</td>\n",
       "      <td id=\"T_293cc_row9_col3\" class=\"data row9 col3\" >0.90%</td>\n",
       "      <td id=\"T_293cc_row9_col4\" class=\"data row9 col4\" ></td>\n",
       "      <td id=\"T_293cc_row9_col5\" class=\"data row9 col5\" ></td>\n",
       "    </tr>\n",
       "    <tr>\n",
       "      <th id=\"T_293cc_level0_row10\" class=\"row_heading level0 row10\" >20.66</th>\n",
       "      <td id=\"T_293cc_row10_col0\" class=\"data row10 col0\" >-0.77%</td>\n",
       "      <td id=\"T_293cc_row10_col1\" class=\"data row10 col1\" >-0.95%</td>\n",
       "      <td id=\"T_293cc_row10_col2\" class=\"data row10 col2\" >1.08%</td>\n",
       "      <td id=\"T_293cc_row10_col3\" class=\"data row10 col3\" >0.20%</td>\n",
       "      <td id=\"T_293cc_row10_col4\" class=\"data row10 col4\" ></td>\n",
       "      <td id=\"T_293cc_row10_col5\" class=\"data row10 col5\" ></td>\n",
       "    </tr>\n",
       "    <tr>\n",
       "      <th id=\"T_293cc_level0_row11\" class=\"row_heading level0 row11\" >28.93</th>\n",
       "      <td id=\"T_293cc_row11_col0\" class=\"data row11 col0\" >-1.47%</td>\n",
       "      <td id=\"T_293cc_row11_col1\" class=\"data row11 col1\" >0.20%</td>\n",
       "      <td id=\"T_293cc_row11_col2\" class=\"data row11 col2\" >0.53%</td>\n",
       "      <td id=\"T_293cc_row11_col3\" class=\"data row11 col3\" >1.17%</td>\n",
       "      <td id=\"T_293cc_row11_col4\" class=\"data row11 col4\" ></td>\n",
       "      <td id=\"T_293cc_row11_col5\" class=\"data row11 col5\" ></td>\n",
       "    </tr>\n",
       "    <tr>\n",
       "      <th id=\"T_293cc_level0_row12\" class=\"row_heading level0 row12\" >40.5</th>\n",
       "      <td id=\"T_293cc_row12_col0\" class=\"data row12 col0\" ></td>\n",
       "      <td id=\"T_293cc_row12_col1\" class=\"data row12 col1\" >0.11%</td>\n",
       "      <td id=\"T_293cc_row12_col2\" class=\"data row12 col2\" >-0.13%</td>\n",
       "      <td id=\"T_293cc_row12_col3\" class=\"data row12 col3\" ></td>\n",
       "      <td id=\"T_293cc_row12_col4\" class=\"data row12 col4\" ></td>\n",
       "      <td id=\"T_293cc_row12_col5\" class=\"data row12 col5\" ></td>\n",
       "    </tr>\n",
       "    <tr>\n",
       "      <th id=\"T_293cc_level0_row13\" class=\"row_heading level0 row13\" >56.69</th>\n",
       "      <td id=\"T_293cc_row13_col0\" class=\"data row13 col0\" >-0.19%</td>\n",
       "      <td id=\"T_293cc_row13_col1\" class=\"data row13 col1\" >0.38%</td>\n",
       "      <td id=\"T_293cc_row13_col2\" class=\"data row13 col2\" >0.82%</td>\n",
       "      <td id=\"T_293cc_row13_col3\" class=\"data row13 col3\" ></td>\n",
       "      <td id=\"T_293cc_row13_col4\" class=\"data row13 col4\" ></td>\n",
       "      <td id=\"T_293cc_row13_col5\" class=\"data row13 col5\" ></td>\n",
       "    </tr>\n",
       "    <tr>\n",
       "      <th id=\"T_293cc_level0_row14\" class=\"row_heading level0 row14\" >79.37</th>\n",
       "      <td id=\"T_293cc_row14_col0\" class=\"data row14 col0\" >0.74%</td>\n",
       "      <td id=\"T_293cc_row14_col1\" class=\"data row14 col1\" >0.53%</td>\n",
       "      <td id=\"T_293cc_row14_col2\" class=\"data row14 col2\" >-0.42%</td>\n",
       "      <td id=\"T_293cc_row14_col3\" class=\"data row14 col3\" ></td>\n",
       "      <td id=\"T_293cc_row14_col4\" class=\"data row14 col4\" ></td>\n",
       "      <td id=\"T_293cc_row14_col5\" class=\"data row14 col5\" ></td>\n",
       "    </tr>\n",
       "    <tr>\n",
       "      <th id=\"T_293cc_level0_row15\" class=\"row_heading level0 row15\" >111.12</th>\n",
       "      <td id=\"T_293cc_row15_col0\" class=\"data row15 col0\" >0.64%</td>\n",
       "      <td id=\"T_293cc_row15_col1\" class=\"data row15 col1\" >-0.46%</td>\n",
       "      <td id=\"T_293cc_row15_col2\" class=\"data row15 col2\" ></td>\n",
       "      <td id=\"T_293cc_row15_col3\" class=\"data row15 col3\" ></td>\n",
       "      <td id=\"T_293cc_row15_col4\" class=\"data row15 col4\" ></td>\n",
       "      <td id=\"T_293cc_row15_col5\" class=\"data row15 col5\" ></td>\n",
       "    </tr>\n",
       "    <tr>\n",
       "      <th id=\"T_293cc_level0_row16\" class=\"row_heading level0 row16\" >155.57</th>\n",
       "      <td id=\"T_293cc_row16_col0\" class=\"data row16 col0\" >1.01%</td>\n",
       "      <td id=\"T_293cc_row16_col1\" class=\"data row16 col1\" >-0.38%</td>\n",
       "      <td id=\"T_293cc_row16_col2\" class=\"data row16 col2\" ></td>\n",
       "      <td id=\"T_293cc_row16_col3\" class=\"data row16 col3\" ></td>\n",
       "      <td id=\"T_293cc_row16_col4\" class=\"data row16 col4\" ></td>\n",
       "      <td id=\"T_293cc_row16_col5\" class=\"data row16 col5\" ></td>\n",
       "    </tr>\n",
       "    <tr>\n",
       "      <th id=\"T_293cc_level0_row17\" class=\"row_heading level0 row17\" >217.8</th>\n",
       "      <td id=\"T_293cc_row17_col0\" class=\"data row17 col0\" >0.39%</td>\n",
       "      <td id=\"T_293cc_row17_col1\" class=\"data row17 col1\" >-0.24%</td>\n",
       "      <td id=\"T_293cc_row17_col2\" class=\"data row17 col2\" ></td>\n",
       "      <td id=\"T_293cc_row17_col3\" class=\"data row17 col3\" ></td>\n",
       "      <td id=\"T_293cc_row17_col4\" class=\"data row17 col4\" ></td>\n",
       "      <td id=\"T_293cc_row17_col5\" class=\"data row17 col5\" ></td>\n",
       "    </tr>\n",
       "    <tr>\n",
       "      <th id=\"T_293cc_level0_row18\" class=\"row_heading level0 row18\" >304.91</th>\n",
       "      <td id=\"T_293cc_row18_col0\" class=\"data row18 col0\" >-2.25%</td>\n",
       "      <td id=\"T_293cc_row18_col1\" class=\"data row18 col1\" >-0.37%</td>\n",
       "      <td id=\"T_293cc_row18_col2\" class=\"data row18 col2\" ></td>\n",
       "      <td id=\"T_293cc_row18_col3\" class=\"data row18 col3\" ></td>\n",
       "      <td id=\"T_293cc_row18_col4\" class=\"data row18 col4\" ></td>\n",
       "      <td id=\"T_293cc_row18_col5\" class=\"data row18 col5\" ></td>\n",
       "    </tr>\n",
       "  </tbody>\n",
       "</table>\n"
      ],
      "text/plain": [
       "<pandas.io.formats.style.Styler at 0x295c273a0>"
      ]
     },
     "execution_count": 14,
     "metadata": {},
     "output_type": "execute_result"
    }
   ],
   "source": [
    "B_W_Metric_raw = dataset[['difficulty', 'stability', 'p', 'y']].copy()\n",
    "B_W_Metric_raw['s_bin'] = B_W_Metric_raw['stability'].map(lambda x: round(math.pow(1.4, math.floor(math.log(x, 1.4))), 2))\n",
    "B_W_Metric_raw['d_bin'] = B_W_Metric_raw['difficulty'].map(lambda x: int(round(x)))\n",
    "B_W_Metric = B_W_Metric_raw.groupby(by=['s_bin', 'd_bin']).agg('mean').reset_index()\n",
    "B_W_Metric_count = B_W_Metric_raw.groupby(by=['s_bin', 'd_bin']).agg('count').reset_index()\n",
    "B_W_Metric['B-W'] = B_W_Metric['p'] - B_W_Metric['y']\n",
    "n = len(dataset)\n",
    "bins = len(B_W_Metric)\n",
    "B_W_Metric_pivot = B_W_Metric[B_W_Metric_count['p'] > max(50, n / (3 * bins))].pivot(index=\"s_bin\", columns='d_bin', values='B-W')\n",
    "B_W_Metric_pivot.apply(pd.to_numeric).style.background_gradient(cmap='seismic', axis=None, vmin=-0.2, vmax=0.2).format(\"{:.2%}\", na_rep='')"
   ]
  },
  {
   "cell_type": "code",
   "execution_count": 15,
   "metadata": {},
   "outputs": [
    {
     "data": {
      "text/plain": [
       "<AxesSubplot:xlabel='d_bin'>"
      ]
     },
     "execution_count": 15,
     "metadata": {},
     "output_type": "execute_result"
    },
    {
     "data": {
      "image/png": "[encoded data removed]",
      "text/plain": [
       "<Figure size 640x480 with 1 Axes>"
      ]
     },
     "metadata": {},
     "output_type": "display_data"
    }
   ],
   "source": [
    "B_W_Metric_raw.groupby(by=['d_bin']).agg('count').reset_index().plot.bar(x='d_bin', y='p', legend=False)"
   ]
  }
 ],
 "metadata": {
  "kernelspec": {
   "display_name": "fsrs4anki",
   "language": "python",
   "name": "python3"
  },
  "language_info": {
   "codemirror_mode": {
    "name": "ipython",
    "version": 3
   },
   "file_extension": ".py",
   "mimetype": "text/x-python",
   "name": "python",
   "nbconvert_exporter": "python",
   "pygments_lexer": "ipython3",
   "version": "3.8.13"
  },
  "orig_nbformat": 4
 },
 "nbformat": 4,
 "nbformat_minor": 2
}
